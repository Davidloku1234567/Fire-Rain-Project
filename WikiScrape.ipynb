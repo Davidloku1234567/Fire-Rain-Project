{
 "cells": [
  {
   "cell_type": "code",
   "execution_count": 1,
   "metadata": {},
   "outputs": [],
   "source": [
    "from splinter import Browser\n",
    "from splinter.exceptions import ElementDoesNotExist\n",
    "from bs4 import BeautifulSoup"
   ]
  },
  {
   "cell_type": "code",
   "execution_count": 2,
   "metadata": {},
   "outputs": [],
   "source": [
    "import pandas as pd"
   ]
  },
  {
   "cell_type": "code",
   "execution_count": 3,
   "metadata": {},
   "outputs": [
    {
     "name": "stdout",
     "output_type": "stream",
     "text": [
      "/usr/local/bin/chromedriver\r\n"
     ]
    }
   ],
   "source": [
    "# https://splinter.readthedocs.io/en/latest/drivers/chrome.html\n",
    "!which chromedriver"
   ]
  },
  {
   "cell_type": "code",
   "execution_count": 4,
   "metadata": {},
   "outputs": [],
   "source": [
    "executable_path = {'executable_path': '/usr/local/bin/chromedriver'}\n",
    "browser = Browser('chrome', **executable_path, headless=False)"
   ]
  },
  {
   "cell_type": "code",
   "execution_count": 5,
   "metadata": {},
   "outputs": [],
   "source": [
    "url = 'https://en.wikipedia.org/wiki/List_of_California_wildfires'\n",
    "browser.visit(url)"
   ]
  },
  {
   "cell_type": "code",
   "execution_count": 6,
   "metadata": {},
   "outputs": [],
   "source": [
    "html = browser.html\n",
    "soup = BeautifulSoup(html, 'html.parser')"
   ]
  },
  {
   "cell_type": "code",
   "execution_count": null,
   "metadata": {},
   "outputs": [],
   "source": [
    "print(soup)"
   ]
  },
  {
   "cell_type": "code",
   "execution_count": null,
   "metadata": {},
   "outputs": [],
   "source": [
    "# image_url = \"https://i2.wp.com/www.mercurynews.com/wp-content/uploads/2019/10/Mendocino-Complex-1.jpg?fit=780%2C9999px&ssl=1\""
   ]
  },
  {
   "cell_type": "code",
   "execution_count": 7,
   "metadata": {},
   "outputs": [],
   "source": [
    "img_url =\"https://static01.nyt.com/images/2019/10/30/us/30fires-photos11/merlin_163584246_b9a52315-78b1-4255-906c-52e8952d9b6d-superJumbo.jpg?quality=90&auto=webp\""
   ]
  },
  {
   "cell_type": "code",
   "execution_count": 8,
   "metadata": {},
   "outputs": [],
   "source": [
    "para_text = soup.find('p').text"
   ]
  },
  {
   "cell_type": "code",
   "execution_count": 9,
   "metadata": {},
   "outputs": [
    {
     "data": {
      "text/plain": [
       "'California has dry, windy, and often hot weather conditions from spring through late autumn that can produce moderate to devastating wildfires. At times, these wildfires are fanned or made worse by strong, dry winds, known as Diablo winds when they occur in the northern part of the state and Santa Ana winds when they occur in the south. Wildfires in California are growing increasingly dangerous because of climate change'"
      ]
     },
     "execution_count": 9,
     "metadata": {},
     "output_type": "execute_result"
    }
   ],
   "source": [
    "text_part1 = para_text.split(\"[1]\")\n",
    "text_part1[0]"
   ]
  },
  {
   "cell_type": "code",
   "execution_count": 10,
   "metadata": {},
   "outputs": [
    {
     "data": {
      "text/plain": [
       "' and because more people are building in rural burn areas. United States taxpayers pay about US$3 billion a year to fight wildfires, and big fires can lead to billions of dollars in property losses.'"
      ]
     },
     "execution_count": 10,
     "metadata": {},
     "output_type": "execute_result"
    }
   ],
   "source": [
    "text_part2 = text_part1[1].splitlines()\n",
    "text_part2 = text_part2[0].split(\"[2]\")\n",
    "text_part2[0]"
   ]
  },
  {
   "cell_type": "code",
   "execution_count": 11,
   "metadata": {},
   "outputs": [],
   "source": [
    "intro_para = text_part1[0] + text_part2[0]"
   ]
  },
  {
   "cell_type": "code",
   "execution_count": 12,
   "metadata": {},
   "outputs": [
    {
     "data": {
      "text/plain": [
       "'California has dry, windy, and often hot weather conditions from spring through late autumn that can produce moderate to devastating wildfires. At times, these wildfires are fanned or made worse by strong, dry winds, known as Diablo winds when they occur in the northern part of the state and Santa Ana winds when they occur in the south. Wildfires in California are growing increasingly dangerous because of climate change and because more people are building in rural burn areas. United States taxpayers pay about US$3 billion a year to fight wildfires, and big fires can lead to billions of dollars in property losses.'"
      ]
     },
     "execution_count": 12,
     "metadata": {},
     "output_type": "execute_result"
    }
   ],
   "source": [
    "intro_para"
   ]
  },
  {
   "cell_type": "code",
   "execution_count": 13,
   "metadata": {},
   "outputs": [
    {
     "data": {
      "text/html": [
       "<div>\n",
       "<style scoped>\n",
       "    .dataframe tbody tr th:only-of-type {\n",
       "        vertical-align: middle;\n",
       "    }\n",
       "\n",
       "    .dataframe tbody tr th {\n",
       "        vertical-align: top;\n",
       "    }\n",
       "\n",
       "    .dataframe thead th {\n",
       "        text-align: right;\n",
       "    }\n",
       "</style>\n",
       "<table border=\"1\" class=\"dataframe\">\n",
       "  <thead>\n",
       "    <tr style=\"text-align: right;\">\n",
       "      <th></th>\n",
       "      <th>Name</th>\n",
       "      <th>County</th>\n",
       "      <th>Acres</th>\n",
       "      <th>Hectares</th>\n",
       "      <th>Start date</th>\n",
       "      <th>Structures</th>\n",
       "      <th>Deaths</th>\n",
       "      <th>Notes</th>\n",
       "    </tr>\n",
       "  </thead>\n",
       "  <tbody>\n",
       "    <tr>\n",
       "      <td>0</td>\n",
       "      <td>Mendocino Complex</td>\n",
       "      <td>Mendocino, Lake,Colusa, Glenn</td>\n",
       "      <td>459123</td>\n",
       "      <td>185800</td>\n",
       "      <td>July 2018</td>\n",
       "      <td>280</td>\n",
       "      <td>1</td>\n",
       "      <td>The Ranch Fire by itself, at 410,203 acres as ...</td>\n",
       "    </tr>\n",
       "    <tr>\n",
       "      <td>1</td>\n",
       "      <td>Thomas</td>\n",
       "      <td>Ventura, Santa Barbara</td>\n",
       "      <td>281893</td>\n",
       "      <td>114078</td>\n",
       "      <td>December 2017</td>\n",
       "      <td>1063</td>\n",
       "      <td>23</td>\n",
       "      <td>Fatalities (2 direct, 21 indirect) attributed ...</td>\n",
       "    </tr>\n",
       "    <tr>\n",
       "      <td>2</td>\n",
       "      <td>Cedar</td>\n",
       "      <td>San Diego</td>\n",
       "      <td>273246</td>\n",
       "      <td>110579</td>\n",
       "      <td>October 2003</td>\n",
       "      <td>2820</td>\n",
       "      <td>15</td>\n",
       "      <td>NaN</td>\n",
       "    </tr>\n",
       "    <tr>\n",
       "      <td>3</td>\n",
       "      <td>Rush</td>\n",
       "      <td>Lassen</td>\n",
       "      <td>271911</td>\n",
       "      <td>110038</td>\n",
       "      <td>August 2012</td>\n",
       "      <td>1</td>\n",
       "      <td>0</td>\n",
       "      <td>This fire burned an additional 43,666 acres (1...</td>\n",
       "    </tr>\n",
       "    <tr>\n",
       "      <td>4</td>\n",
       "      <td>Rim</td>\n",
       "      <td>Tuolumne</td>\n",
       "      <td>257314</td>\n",
       "      <td>104131</td>\n",
       "      <td>August 2013</td>\n",
       "      <td>112</td>\n",
       "      <td>0</td>\n",
       "      <td>NaN</td>\n",
       "    </tr>\n",
       "    <tr>\n",
       "      <td>5</td>\n",
       "      <td>Zaca</td>\n",
       "      <td>Santa Barbara</td>\n",
       "      <td>240207</td>\n",
       "      <td>97208</td>\n",
       "      <td>July 2007</td>\n",
       "      <td>1</td>\n",
       "      <td>0</td>\n",
       "      <td>NaN</td>\n",
       "    </tr>\n",
       "    <tr>\n",
       "      <td>6</td>\n",
       "      <td>Carr</td>\n",
       "      <td>Shasta, Trinity</td>\n",
       "      <td>229651</td>\n",
       "      <td>92936</td>\n",
       "      <td>July 2018</td>\n",
       "      <td>1604</td>\n",
       "      <td>8</td>\n",
       "      <td>NaN</td>\n",
       "    </tr>\n",
       "    <tr>\n",
       "      <td>7</td>\n",
       "      <td>Matilija</td>\n",
       "      <td>Ventura</td>\n",
       "      <td>220000</td>\n",
       "      <td>89030</td>\n",
       "      <td>September 1932</td>\n",
       "      <td>0</td>\n",
       "      <td>0</td>\n",
       "      <td>NaN</td>\n",
       "    </tr>\n",
       "    <tr>\n",
       "      <td>8</td>\n",
       "      <td>Witch</td>\n",
       "      <td>San Diego</td>\n",
       "      <td>197990</td>\n",
       "      <td>80120</td>\n",
       "      <td>October 2007</td>\n",
       "      <td>1650</td>\n",
       "      <td>2</td>\n",
       "      <td>NaN</td>\n",
       "    </tr>\n",
       "    <tr>\n",
       "      <td>9</td>\n",
       "      <td>Klamath Theater Complex</td>\n",
       "      <td>Siskiyou</td>\n",
       "      <td>192038</td>\n",
       "      <td>77715</td>\n",
       "      <td>June 2008</td>\n",
       "      <td>0</td>\n",
       "      <td>2</td>\n",
       "      <td>NaN</td>\n",
       "    </tr>\n",
       "    <tr>\n",
       "      <td>10</td>\n",
       "      <td>Marble Cone</td>\n",
       "      <td>Monterey</td>\n",
       "      <td>177866</td>\n",
       "      <td>71980</td>\n",
       "      <td>July 1977</td>\n",
       "      <td>0</td>\n",
       "      <td>0</td>\n",
       "      <td>NaN</td>\n",
       "    </tr>\n",
       "    <tr>\n",
       "      <td>11</td>\n",
       "      <td>Laguna</td>\n",
       "      <td>San Diego</td>\n",
       "      <td>175425</td>\n",
       "      <td>70992</td>\n",
       "      <td>September 1970</td>\n",
       "      <td>382</td>\n",
       "      <td>8</td>\n",
       "      <td>NaN</td>\n",
       "    </tr>\n",
       "    <tr>\n",
       "      <td>12</td>\n",
       "      <td>Basin Complex</td>\n",
       "      <td>Monterey</td>\n",
       "      <td>162818</td>\n",
       "      <td>65890</td>\n",
       "      <td>June 2008</td>\n",
       "      <td>58</td>\n",
       "      <td>0</td>\n",
       "      <td>NaN</td>\n",
       "    </tr>\n",
       "    <tr>\n",
       "      <td>13</td>\n",
       "      <td>Day</td>\n",
       "      <td>Ventura</td>\n",
       "      <td>162702</td>\n",
       "      <td>65843</td>\n",
       "      <td>September 2006</td>\n",
       "      <td>11</td>\n",
       "      <td>0</td>\n",
       "      <td>NaN</td>\n",
       "    </tr>\n",
       "    <tr>\n",
       "      <td>14</td>\n",
       "      <td>Station</td>\n",
       "      <td>Los Angeles</td>\n",
       "      <td>160557</td>\n",
       "      <td>64975</td>\n",
       "      <td>August 2009</td>\n",
       "      <td>209</td>\n",
       "      <td>2</td>\n",
       "      <td>NaN</td>\n",
       "    </tr>\n",
       "    <tr>\n",
       "      <td>15</td>\n",
       "      <td>Camp</td>\n",
       "      <td>Butte</td>\n",
       "      <td>153336</td>\n",
       "      <td>62053</td>\n",
       "      <td>November 2018</td>\n",
       "      <td>18804</td>\n",
       "      <td>86</td>\n",
       "      <td>NaN</td>\n",
       "    </tr>\n",
       "    <tr>\n",
       "      <td>16</td>\n",
       "      <td>Rough</td>\n",
       "      <td>Fresno</td>\n",
       "      <td>151623</td>\n",
       "      <td>61360</td>\n",
       "      <td>July 2015</td>\n",
       "      <td>4</td>\n",
       "      <td>0</td>\n",
       "      <td>NaN</td>\n",
       "    </tr>\n",
       "    <tr>\n",
       "      <td>17</td>\n",
       "      <td>McNally</td>\n",
       "      <td>Tulare</td>\n",
       "      <td>150696</td>\n",
       "      <td>60985</td>\n",
       "      <td>July 2002</td>\n",
       "      <td>17</td>\n",
       "      <td>0</td>\n",
       "      <td>NaN</td>\n",
       "    </tr>\n",
       "    <tr>\n",
       "      <td>18</td>\n",
       "      <td>Stanislaus Complex</td>\n",
       "      <td>Tuolumne</td>\n",
       "      <td>145980</td>\n",
       "      <td>59080</td>\n",
       "      <td>August 1987</td>\n",
       "      <td>28</td>\n",
       "      <td>1</td>\n",
       "      <td>NaN</td>\n",
       "    </tr>\n",
       "    <tr>\n",
       "      <td>19</td>\n",
       "      <td>Big Bar Complex</td>\n",
       "      <td>Trinity</td>\n",
       "      <td>140948</td>\n",
       "      <td>57040</td>\n",
       "      <td>August 1999</td>\n",
       "      <td>0</td>\n",
       "      <td>0</td>\n",
       "      <td>NaN</td>\n",
       "    </tr>\n",
       "  </tbody>\n",
       "</table>\n",
       "</div>"
      ],
      "text/plain": [
       "                       Name                         County   Acres  Hectares  \\\n",
       "0         Mendocino Complex  Mendocino, Lake,Colusa, Glenn  459123    185800   \n",
       "1                    Thomas         Ventura, Santa Barbara  281893    114078   \n",
       "2                     Cedar                      San Diego  273246    110579   \n",
       "3                      Rush                         Lassen  271911    110038   \n",
       "4                       Rim                       Tuolumne  257314    104131   \n",
       "5                      Zaca                  Santa Barbara  240207     97208   \n",
       "6                      Carr                Shasta, Trinity  229651     92936   \n",
       "7                  Matilija                        Ventura  220000     89030   \n",
       "8                     Witch                      San Diego  197990     80120   \n",
       "9   Klamath Theater Complex                       Siskiyou  192038     77715   \n",
       "10              Marble Cone                       Monterey  177866     71980   \n",
       "11                   Laguna                      San Diego  175425     70992   \n",
       "12            Basin Complex                       Monterey  162818     65890   \n",
       "13                      Day                        Ventura  162702     65843   \n",
       "14                  Station                    Los Angeles  160557     64975   \n",
       "15                     Camp                          Butte  153336     62053   \n",
       "16                    Rough                         Fresno  151623     61360   \n",
       "17                  McNally                         Tulare  150696     60985   \n",
       "18       Stanislaus Complex                       Tuolumne  145980     59080   \n",
       "19          Big Bar Complex                        Trinity  140948     57040   \n",
       "\n",
       "        Start date  Structures  Deaths  \\\n",
       "0        July 2018         280       1   \n",
       "1    December 2017        1063      23   \n",
       "2     October 2003        2820      15   \n",
       "3      August 2012           1       0   \n",
       "4      August 2013         112       0   \n",
       "5        July 2007           1       0   \n",
       "6        July 2018        1604       8   \n",
       "7   September 1932           0       0   \n",
       "8     October 2007        1650       2   \n",
       "9        June 2008           0       2   \n",
       "10       July 1977           0       0   \n",
       "11  September 1970         382       8   \n",
       "12       June 2008          58       0   \n",
       "13  September 2006          11       0   \n",
       "14     August 2009         209       2   \n",
       "15   November 2018       18804      86   \n",
       "16       July 2015           4       0   \n",
       "17       July 2002          17       0   \n",
       "18     August 1987          28       1   \n",
       "19     August 1999           0       0   \n",
       "\n",
       "                                                Notes  \n",
       "0   The Ranch Fire by itself, at 410,203 acres as ...  \n",
       "1   Fatalities (2 direct, 21 indirect) attributed ...  \n",
       "2                                                 NaN  \n",
       "3   This fire burned an additional 43,666 acres (1...  \n",
       "4                                                 NaN  \n",
       "5                                                 NaN  \n",
       "6                                                 NaN  \n",
       "7                                                 NaN  \n",
       "8                                                 NaN  \n",
       "9                                                 NaN  \n",
       "10                                                NaN  \n",
       "11                                                NaN  \n",
       "12                                                NaN  \n",
       "13                                                NaN  \n",
       "14                                                NaN  \n",
       "15                                                NaN  \n",
       "16                                                NaN  \n",
       "17                                                NaN  \n",
       "18                                                NaN  \n",
       "19                                                NaN  "
      ]
     },
     "execution_count": 13,
     "metadata": {},
     "output_type": "execute_result"
    }
   ],
   "source": [
    "table = pd.read_html(url)\n",
    "des_fire_df= table[0]\n",
    "des_fire_df"
   ]
  },
  {
   "cell_type": "code",
   "execution_count": null,
   "metadata": {},
   "outputs": [],
   "source": []
  },
  {
   "cell_type": "code",
   "execution_count": null,
   "metadata": {},
   "outputs": [],
   "source": []
  },
  {
   "cell_type": "code",
   "execution_count": null,
   "metadata": {},
   "outputs": [],
   "source": [
    "#Most Destructive Fires\n",
    "des_fire_df"
   ]
  },
  {
   "cell_type": "code",
   "execution_count": 14,
   "metadata": {},
   "outputs": [
    {
     "data": {
      "text/plain": [
       "'<table border=\"1\" class=\"dataframe\">\\n  <thead>\\n    <tr style=\"text-align: right;\">\\n      <th></th>\\n      <th>Name</th>\\n      <th>County</th>\\n      <th>Acres</th>\\n      <th>Hectares</th>\\n      <th>Start date</th>\\n      <th>Structures</th>\\n      <th>Deaths</th>\\n      <th>Notes</th>\\n    </tr>\\n  </thead>\\n  <tbody>\\n    <tr>\\n      <th>0</th>\\n      <td>Mendocino Complex</td>\\n      <td>Mendocino, Lake,Colusa, Glenn</td>\\n      <td>459123</td>\\n      <td>185800</td>\\n      <td>July 2018</td>\\n      <td>280</td>\\n      <td>1</td>\\n      <td>The Ranch Fire by itself, at 410,203 acres as of 19 September 2018, is the largest fire in California history. 1 firefighter died.[5]</td>\\n    </tr>\\n    <tr>\\n      <th>1</th>\\n      <td>Thomas</td>\\n      <td>Ventura, Santa Barbara</td>\\n      <td>281893</td>\\n      <td>114078</td>\\n      <td>December 2017</td>\\n      <td>1063</td>\\n      <td>23</td>\\n      <td>Fatalities (2 direct, 21 indirect) attributed to the fire include 1 firefighter and 1 civilian directly, 21 deaths in later mudslides.[6]</td>\\n    </tr>\\n    <tr>\\n      <th>2</th>\\n      <td>Cedar</td>\\n      <td>San Diego</td>\\n      <td>273246</td>\\n      <td>110579</td>\\n      <td>October 2003</td>\\n      <td>2820</td>\\n      <td>15</td>\\n      <td>NaN</td>\\n    </tr>\\n    <tr>\\n      <th>3</th>\\n      <td>Rush</td>\\n      <td>Lassen</td>\\n      <td>271911</td>\\n      <td>110038</td>\\n      <td>August 2012</td>\\n      <td>1</td>\\n      <td>0</td>\\n      <td>This fire burned an additional 43,666 acres (17,671.0\\xa0ha) in Nevada, for a total of 315,577 acres (127,709.5\\xa0ha).[7][8]</td>\\n    </tr>\\n    <tr>\\n      <th>4</th>\\n      <td>Rim</td>\\n      <td>Tuolumne</td>\\n      <td>257314</td>\\n      <td>104131</td>\\n      <td>August 2013</td>\\n      <td>112</td>\\n      <td>0</td>\\n      <td>NaN</td>\\n    </tr>\\n    <tr>\\n      <th>5</th>\\n      <td>Zaca</td>\\n      <td>Santa Barbara</td>\\n      <td>240207</td>\\n      <td>97208</td>\\n      <td>July 2007</td>\\n      <td>1</td>\\n      <td>0</td>\\n      <td>NaN</td>\\n    </tr>\\n    <tr>\\n      <th>6</th>\\n      <td>Carr</td>\\n      <td>Shasta, Trinity</td>\\n      <td>229651</td>\\n      <td>92936</td>\\n      <td>July 2018</td>\\n      <td>1604</td>\\n      <td>8</td>\\n      <td>NaN</td>\\n    </tr>\\n    <tr>\\n      <th>7</th>\\n      <td>Matilija</td>\\n      <td>Ventura</td>\\n      <td>220000</td>\\n      <td>89030</td>\\n      <td>September 1932</td>\\n      <td>0</td>\\n      <td>0</td>\\n      <td>NaN</td>\\n    </tr>\\n    <tr>\\n      <th>8</th>\\n      <td>Witch</td>\\n      <td>San Diego</td>\\n      <td>197990</td>\\n      <td>80120</td>\\n      <td>October 2007</td>\\n      <td>1650</td>\\n      <td>2</td>\\n      <td>NaN</td>\\n    </tr>\\n    <tr>\\n      <th>9</th>\\n      <td>Klamath Theater Complex</td>\\n      <td>Siskiyou</td>\\n      <td>192038</td>\\n      <td>77715</td>\\n      <td>June 2008</td>\\n      <td>0</td>\\n      <td>2</td>\\n      <td>NaN</td>\\n    </tr>\\n    <tr>\\n      <th>10</th>\\n      <td>Marble Cone</td>\\n      <td>Monterey</td>\\n      <td>177866</td>\\n      <td>71980</td>\\n      <td>July 1977</td>\\n      <td>0</td>\\n      <td>0</td>\\n      <td>NaN</td>\\n    </tr>\\n    <tr>\\n      <th>11</th>\\n      <td>Laguna</td>\\n      <td>San Diego</td>\\n      <td>175425</td>\\n      <td>70992</td>\\n      <td>September 1970</td>\\n      <td>382</td>\\n      <td>8</td>\\n      <td>NaN</td>\\n    </tr>\\n    <tr>\\n      <th>12</th>\\n      <td>Basin Complex</td>\\n      <td>Monterey</td>\\n      <td>162818</td>\\n      <td>65890</td>\\n      <td>June 2008</td>\\n      <td>58</td>\\n      <td>0</td>\\n      <td>NaN</td>\\n    </tr>\\n    <tr>\\n      <th>13</th>\\n      <td>Day</td>\\n      <td>Ventura</td>\\n      <td>162702</td>\\n      <td>65843</td>\\n      <td>September 2006</td>\\n      <td>11</td>\\n      <td>0</td>\\n      <td>NaN</td>\\n    </tr>\\n    <tr>\\n      <th>14</th>\\n      <td>Station</td>\\n      <td>Los Angeles</td>\\n      <td>160557</td>\\n      <td>64975</td>\\n      <td>August 2009</td>\\n      <td>209</td>\\n      <td>2</td>\\n      <td>NaN</td>\\n    </tr>\\n    <tr>\\n      <th>15</th>\\n      <td>Camp</td>\\n      <td>Butte</td>\\n      <td>153336</td>\\n      <td>62053</td>\\n      <td>November 2018</td>\\n      <td>18804</td>\\n      <td>86</td>\\n      <td>NaN</td>\\n    </tr>\\n    <tr>\\n      <th>16</th>\\n      <td>Rough</td>\\n      <td>Fresno</td>\\n      <td>151623</td>\\n      <td>61360</td>\\n      <td>July 2015</td>\\n      <td>4</td>\\n      <td>0</td>\\n      <td>NaN</td>\\n    </tr>\\n    <tr>\\n      <th>17</th>\\n      <td>McNally</td>\\n      <td>Tulare</td>\\n      <td>150696</td>\\n      <td>60985</td>\\n      <td>July 2002</td>\\n      <td>17</td>\\n      <td>0</td>\\n      <td>NaN</td>\\n    </tr>\\n    <tr>\\n      <th>18</th>\\n      <td>Stanislaus Complex</td>\\n      <td>Tuolumne</td>\\n      <td>145980</td>\\n      <td>59080</td>\\n      <td>August 1987</td>\\n      <td>28</td>\\n      <td>1</td>\\n      <td>NaN</td>\\n    </tr>\\n    <tr>\\n      <th>19</th>\\n      <td>Big Bar Complex</td>\\n      <td>Trinity</td>\\n      <td>140948</td>\\n      <td>57040</td>\\n      <td>August 1999</td>\\n      <td>0</td>\\n      <td>0</td>\\n      <td>NaN</td>\\n    </tr>\\n  </tbody>\\n</table>'"
      ]
     },
     "execution_count": 14,
     "metadata": {},
     "output_type": "execute_result"
    }
   ],
   "source": [
    "fire_table_html = des_fire_df.to_html()\n",
    "fire_table_html"
   ]
  },
  {
   "cell_type": "code",
   "execution_count": 15,
   "metadata": {},
   "outputs": [
    {
     "data": {
      "text/plain": [
       "'<table border=\"1\" class=\"dataframe\">  <thead>    <tr style=\"text-align: right;\">      <th></th>      <th>Name</th>      <th>County</th>      <th>Acres</th>      <th>Hectares</th>      <th>Start date</th>      <th>Structures</th>      <th>Deaths</th>      <th>Notes</th>    </tr>  </thead>  <tbody>    <tr>      <th>0</th>      <td>Mendocino Complex</td>      <td>Mendocino, Lake,Colusa, Glenn</td>      <td>459123</td>      <td>185800</td>      <td>July 2018</td>      <td>280</td>      <td>1</td>      <td>The Ranch Fire by itself, at 410,203 acres as of 19 September 2018, is the largest fire in California history. 1 firefighter died.[5]</td>    </tr>    <tr>      <th>1</th>      <td>Thomas</td>      <td>Ventura, Santa Barbara</td>      <td>281893</td>      <td>114078</td>      <td>December 2017</td>      <td>1063</td>      <td>23</td>      <td>Fatalities (2 direct, 21 indirect) attributed to the fire include 1 firefighter and 1 civilian directly, 21 deaths in later mudslides.[6]</td>    </tr>    <tr>      <th>2</th>      <td>Cedar</td>      <td>San Diego</td>      <td>273246</td>      <td>110579</td>      <td>October 2003</td>      <td>2820</td>      <td>15</td>      <td>NaN</td>    </tr>    <tr>      <th>3</th>      <td>Rush</td>      <td>Lassen</td>      <td>271911</td>      <td>110038</td>      <td>August 2012</td>      <td>1</td>      <td>0</td>      <td>This fire burned an additional 43,666 acres (17,671.0\\xa0ha) in Nevada, for a total of 315,577 acres (127,709.5\\xa0ha).[7][8]</td>    </tr>    <tr>      <th>4</th>      <td>Rim</td>      <td>Tuolumne</td>      <td>257314</td>      <td>104131</td>      <td>August 2013</td>      <td>112</td>      <td>0</td>      <td>NaN</td>    </tr>    <tr>      <th>5</th>      <td>Zaca</td>      <td>Santa Barbara</td>      <td>240207</td>      <td>97208</td>      <td>July 2007</td>      <td>1</td>      <td>0</td>      <td>NaN</td>    </tr>    <tr>      <th>6</th>      <td>Carr</td>      <td>Shasta, Trinity</td>      <td>229651</td>      <td>92936</td>      <td>July 2018</td>      <td>1604</td>      <td>8</td>      <td>NaN</td>    </tr>    <tr>      <th>7</th>      <td>Matilija</td>      <td>Ventura</td>      <td>220000</td>      <td>89030</td>      <td>September 1932</td>      <td>0</td>      <td>0</td>      <td>NaN</td>    </tr>    <tr>      <th>8</th>      <td>Witch</td>      <td>San Diego</td>      <td>197990</td>      <td>80120</td>      <td>October 2007</td>      <td>1650</td>      <td>2</td>      <td>NaN</td>    </tr>    <tr>      <th>9</th>      <td>Klamath Theater Complex</td>      <td>Siskiyou</td>      <td>192038</td>      <td>77715</td>      <td>June 2008</td>      <td>0</td>      <td>2</td>      <td>NaN</td>    </tr>    <tr>      <th>10</th>      <td>Marble Cone</td>      <td>Monterey</td>      <td>177866</td>      <td>71980</td>      <td>July 1977</td>      <td>0</td>      <td>0</td>      <td>NaN</td>    </tr>    <tr>      <th>11</th>      <td>Laguna</td>      <td>San Diego</td>      <td>175425</td>      <td>70992</td>      <td>September 1970</td>      <td>382</td>      <td>8</td>      <td>NaN</td>    </tr>    <tr>      <th>12</th>      <td>Basin Complex</td>      <td>Monterey</td>      <td>162818</td>      <td>65890</td>      <td>June 2008</td>      <td>58</td>      <td>0</td>      <td>NaN</td>    </tr>    <tr>      <th>13</th>      <td>Day</td>      <td>Ventura</td>      <td>162702</td>      <td>65843</td>      <td>September 2006</td>      <td>11</td>      <td>0</td>      <td>NaN</td>    </tr>    <tr>      <th>14</th>      <td>Station</td>      <td>Los Angeles</td>      <td>160557</td>      <td>64975</td>      <td>August 2009</td>      <td>209</td>      <td>2</td>      <td>NaN</td>    </tr>    <tr>      <th>15</th>      <td>Camp</td>      <td>Butte</td>      <td>153336</td>      <td>62053</td>      <td>November 2018</td>      <td>18804</td>      <td>86</td>      <td>NaN</td>    </tr>    <tr>      <th>16</th>      <td>Rough</td>      <td>Fresno</td>      <td>151623</td>      <td>61360</td>      <td>July 2015</td>      <td>4</td>      <td>0</td>      <td>NaN</td>    </tr>    <tr>      <th>17</th>      <td>McNally</td>      <td>Tulare</td>      <td>150696</td>      <td>60985</td>      <td>July 2002</td>      <td>17</td>      <td>0</td>      <td>NaN</td>    </tr>    <tr>      <th>18</th>      <td>Stanislaus Complex</td>      <td>Tuolumne</td>      <td>145980</td>      <td>59080</td>      <td>August 1987</td>      <td>28</td>      <td>1</td>      <td>NaN</td>    </tr>    <tr>      <th>19</th>      <td>Big Bar Complex</td>      <td>Trinity</td>      <td>140948</td>      <td>57040</td>      <td>August 1999</td>      <td>0</td>      <td>0</td>      <td>NaN</td>    </tr>  </tbody></table>'"
      ]
     },
     "execution_count": 15,
     "metadata": {},
     "output_type": "execute_result"
    }
   ],
   "source": [
    "facts_list = fire_table_html.splitlines()\n",
    "separator = \"\"\n",
    "fire_table_html = separator.join(facts_list)\n",
    "fire_table_html"
   ]
  },
  {
   "cell_type": "code",
   "execution_count": 16,
   "metadata": {},
   "outputs": [],
   "source": [
    "mendo_fire_url = \"https://i2.wp.com/www.mercurynews.com/wp-content/uploads/2019/10/Mendocino-Complex-1.jpg?fit=780%2C9999px&ssl=1\""
   ]
  },
  {
   "cell_type": "code",
   "execution_count": null,
   "metadata": {},
   "outputs": [],
   "source": [
    "mendo_fire_url"
   ]
  },
  {
   "cell_type": "code",
   "execution_count": 17,
   "metadata": {},
   "outputs": [],
   "source": [
    "camp_fire_url = \"https://upload.wikimedia.org/wikipedia/commons/thumb/b/b1/Camp_Fire_oli_2018312_Landsat.jpg/1280px-Camp_Fire_oli_2018312_Landsat.jpg\""
   ]
  },
  {
   "cell_type": "code",
   "execution_count": null,
   "metadata": {},
   "outputs": [],
   "source": [
    "camp_fire_url"
   ]
  },
  {
   "cell_type": "code",
   "execution_count": 18,
   "metadata": {},
   "outputs": [],
   "source": [
    "executable_path = {'executable_path': '/usr/local/bin/chromedriver'}\n",
    "browser = Browser('chrome', **executable_path, headless=False)"
   ]
  },
  {
   "cell_type": "code",
   "execution_count": 19,
   "metadata": {},
   "outputs": [],
   "source": [
    "mendo_url = 'https://www.cnn.com/2018/09/20/us/california-mendocino-complex-fire-contained-trnd/index.html'\n",
    "browser.visit(mendo_url)"
   ]
  },
  {
   "cell_type": "code",
   "execution_count": 20,
   "metadata": {},
   "outputs": [],
   "source": [
    "html = browser.html\n",
    "soup = BeautifulSoup(html, 'html.parser')"
   ]
  },
  {
   "cell_type": "code",
   "execution_count": 21,
   "metadata": {},
   "outputs": [],
   "source": [
    "#Article Headline for Mendocino\n",
    "headline = soup.find(\"h1\").text"
   ]
  },
  {
   "cell_type": "code",
   "execution_count": 22,
   "metadata": {},
   "outputs": [
    {
     "data": {
      "text/plain": [
       "'The largest wildfire in California history is finally contained'"
      ]
     },
     "execution_count": 22,
     "metadata": {},
     "output_type": "execute_result"
    }
   ],
   "source": [
    "headline"
   ]
  },
  {
   "cell_type": "code",
   "execution_count": null,
   "metadata": {},
   "outputs": [],
   "source": [
    "print(soup)"
   ]
  },
  {
   "cell_type": "code",
   "execution_count": 23,
   "metadata": {},
   "outputs": [],
   "source": [
    "#scrape para1 for Mendocino\n",
    "para1 = soup.find(\"div\",class_=\"zn-body__paragraph\").text"
   ]
  },
  {
   "cell_type": "code",
   "execution_count": 24,
   "metadata": {},
   "outputs": [],
   "source": [
    "para=soup.find(\"div\",class_=\"l-container\").text"
   ]
  },
  {
   "cell_type": "code",
   "execution_count": 26,
   "metadata": {},
   "outputs": [
    {
     "data": {
      "text/plain": [
       "str"
      ]
     },
     "execution_count": 26,
     "metadata": {},
     "output_type": "execute_result"
    }
   ],
   "source": [
    "type(para)"
   ]
  },
  {
   "cell_type": "code",
   "execution_count": 27,
   "metadata": {},
   "outputs": [],
   "source": [
    "str1 = para.split(\".\")"
   ]
  },
  {
   "cell_type": "code",
   "execution_count": 28,
   "metadata": {},
   "outputs": [],
   "source": [
    "para2 = str1[4] + \".\" + str1[5]"
   ]
  },
  {
   "cell_type": "code",
   "execution_count": 29,
   "metadata": {},
   "outputs": [
    {
     "data": {
      "text/plain": [
       "' The Mendocino fire consisted of twin flames -- the River Fire and the Ranch Fire. The flames ravaged more than 280 structures, 157 of which were homes, and scorched an area bigger than Los Angeles'"
      ]
     },
     "execution_count": 29,
     "metadata": {},
     "output_type": "execute_result"
    }
   ],
   "source": [
    "# Scrape para2 for Mendocina\n",
    "para2"
   ]
  },
  {
   "cell_type": "code",
   "execution_count": 30,
   "metadata": {},
   "outputs": [],
   "source": [
    "mendo_para = para1 + para2"
   ]
  },
  {
   "cell_type": "code",
   "execution_count": 31,
   "metadata": {},
   "outputs": [
    {
     "data": {
      "text/plain": [
       "'It devoured close to 459,000 acres and killed one firefighter who was among hundreds who came in from across the country to help put it out.  The Mendocino fire consisted of twin flames -- the River Fire and the Ranch Fire. The flames ravaged more than 280 structures, 157 of which were homes, and scorched an area bigger than Los Angeles'"
      ]
     },
     "execution_count": 31,
     "metadata": {},
     "output_type": "execute_result"
    }
   ],
   "source": [
    "mendo_para"
   ]
  },
  {
   "cell_type": "code",
   "execution_count": 32,
   "metadata": {},
   "outputs": [],
   "source": [
    "executable_path = {'executable_path': '/usr/local/bin/chromedriver'}\n",
    "browser = Browser('chrome', **executable_path, headless=False)"
   ]
  },
  {
   "cell_type": "code",
   "execution_count": 33,
   "metadata": {},
   "outputs": [],
   "source": [
    "camp_url = \"https://abc7.com/the-deadliest-wildfires-in-california-history/4673982/\"\n",
    "browser.visit(camp_url)"
   ]
  },
  {
   "cell_type": "code",
   "execution_count": 34,
   "metadata": {},
   "outputs": [],
   "source": [
    "html = browser.html\n",
    "soup = BeautifulSoup(html, 'html.parser')"
   ]
  },
  {
   "cell_type": "code",
   "execution_count": 35,
   "metadata": {},
   "outputs": [],
   "source": [
    "#camp fire headline \n",
    "camp_headline = soup.find(\"h1\").text"
   ]
  },
  {
   "cell_type": "code",
   "execution_count": 36,
   "metadata": {},
   "outputs": [
    {
     "data": {
      "text/plain": [
       "'Camp Fire is deadliest wildfire in California history'"
      ]
     },
     "execution_count": 36,
     "metadata": {},
     "output_type": "execute_result"
    }
   ],
   "source": [
    "camp_headline"
   ]
  },
  {
   "cell_type": "code",
   "execution_count": null,
   "metadata": {},
   "outputs": [],
   "source": [
    "camp_para1 = soup.find(\"div\",class_ = \"body-text\")"
   ]
  },
  {
   "cell_type": "code",
   "execution_count": null,
   "metadata": {},
   "outputs": [],
   "source": [
    "camp_para1_clean = camp_para1.text.split(\".\")[0] + \". \" +  camp_para1.text.split(\".\")[1]"
   ]
  },
  {
   "cell_type": "code",
   "execution_count": null,
   "metadata": {},
   "outputs": [],
   "source": [
    "camp_para1_clean"
   ]
  },
  {
   "cell_type": "code",
   "execution_count": null,
   "metadata": {},
   "outputs": [],
   "source": [
    "type(camp_para1_clean)"
   ]
  },
  {
   "cell_type": "code",
   "execution_count": null,
   "metadata": {},
   "outputs": [],
   "source": [
    "deadliest_element = browser.find_link_by_text(\"deadliest wildfires in California history\").first"
   ]
  },
  {
   "cell_type": "code",
   "execution_count": null,
   "metadata": {},
   "outputs": [],
   "source": [
    "#scrape top20 deadliest wildfires in CA\n",
    "deadliest_element.click()"
   ]
  },
  {
   "cell_type": "code",
   "execution_count": null,
   "metadata": {},
   "outputs": [],
   "source": []
  }
 ],
 "metadata": {
  "kernelspec": {
   "display_name": "Python 3",
   "language": "python",
   "name": "python3"
  },
  "language_info": {
   "codemirror_mode": {
    "name": "ipython",
    "version": 3
   },
   "file_extension": ".py",
   "mimetype": "text/x-python",
   "name": "python",
   "nbconvert_exporter": "python",
   "pygments_lexer": "ipython3",
   "version": "3.7.4"
  }
 },
 "nbformat": 4,
 "nbformat_minor": 2
}
