{
 "cells": [
  {
   "cell_type": "code",
   "execution_count": 1,
   "metadata": {},
   "outputs": [],
   "source": [
    "import requests\n",
    "import json\n",
    "import pandas as pd\n",
    "from sqlalchemy import create_engine"
   ]
  },
  {
   "cell_type": "code",
   "execution_count": 2,
   "metadata": {},
   "outputs": [],
   "source": [
    "from pprint import pprint"
   ]
  },
  {
   "cell_type": "code",
   "execution_count": 3,
   "metadata": {},
   "outputs": [
    {
     "data": {
      "text/html": [
       "<div>\n",
       "<style scoped>\n",
       "    .dataframe tbody tr th:only-of-type {\n",
       "        vertical-align: middle;\n",
       "    }\n",
       "\n",
       "    .dataframe tbody tr th {\n",
       "        vertical-align: top;\n",
       "    }\n",
       "\n",
       "    .dataframe thead th {\n",
       "        text-align: right;\n",
       "    }\n",
       "</style>\n",
       "<table border=\"1\" class=\"dataframe\">\n",
       "  <thead>\n",
       "    <tr style=\"text-align: right;\">\n",
       "      <th></th>\n",
       "      <th>reading</th>\n",
       "      <th>rainfall</th>\n",
       "      <th>fire_name</th>\n",
       "      <th>county</th>\n",
       "    </tr>\n",
       "  </thead>\n",
       "  <tbody>\n",
       "    <tr>\n",
       "      <td>0</td>\n",
       "      <td>8/1/1998</td>\n",
       "      <td>0.0</td>\n",
       "      <td>BigBarComplex</td>\n",
       "      <td>Trinity</td>\n",
       "    </tr>\n",
       "    <tr>\n",
       "      <td>1</td>\n",
       "      <td>8/2/1998</td>\n",
       "      <td>0.0</td>\n",
       "      <td>BigBarComplex</td>\n",
       "      <td>Trinity</td>\n",
       "    </tr>\n",
       "    <tr>\n",
       "      <td>2</td>\n",
       "      <td>8/3/1998</td>\n",
       "      <td>0.0</td>\n",
       "      <td>BigBarComplex</td>\n",
       "      <td>Trinity</td>\n",
       "    </tr>\n",
       "    <tr>\n",
       "      <td>3</td>\n",
       "      <td>8/4/1998</td>\n",
       "      <td>0.0</td>\n",
       "      <td>BigBarComplex</td>\n",
       "      <td>Trinity</td>\n",
       "    </tr>\n",
       "    <tr>\n",
       "      <td>4</td>\n",
       "      <td>8/5/1998</td>\n",
       "      <td>0.0</td>\n",
       "      <td>BigBarComplex</td>\n",
       "      <td>Trinity</td>\n",
       "    </tr>\n",
       "    <tr>\n",
       "      <td>...</td>\n",
       "      <td>...</td>\n",
       "      <td>...</td>\n",
       "      <td>...</td>\n",
       "      <td>...</td>\n",
       "    </tr>\n",
       "    <tr>\n",
       "      <td>6388</td>\n",
       "      <td>11/26/2003</td>\n",
       "      <td>0.0</td>\n",
       "      <td>Cedar</td>\n",
       "      <td>San Diego</td>\n",
       "    </tr>\n",
       "    <tr>\n",
       "      <td>6389</td>\n",
       "      <td>11/27/2003</td>\n",
       "      <td>0.0</td>\n",
       "      <td>Cedar</td>\n",
       "      <td>San Diego</td>\n",
       "    </tr>\n",
       "    <tr>\n",
       "      <td>6390</td>\n",
       "      <td>11/28/2003</td>\n",
       "      <td>0.0</td>\n",
       "      <td>Cedar</td>\n",
       "      <td>San Diego</td>\n",
       "    </tr>\n",
       "    <tr>\n",
       "      <td>6391</td>\n",
       "      <td>11/29/2003</td>\n",
       "      <td>0.0</td>\n",
       "      <td>Cedar</td>\n",
       "      <td>San Diego</td>\n",
       "    </tr>\n",
       "    <tr>\n",
       "      <td>6392</td>\n",
       "      <td>11/30/2003</td>\n",
       "      <td>0.0</td>\n",
       "      <td>Cedar</td>\n",
       "      <td>San Diego</td>\n",
       "    </tr>\n",
       "  </tbody>\n",
       "</table>\n",
       "<p>6393 rows × 4 columns</p>\n",
       "</div>"
      ],
      "text/plain": [
       "         reading  rainfall      fire_name     county\n",
       "0       8/1/1998       0.0  BigBarComplex    Trinity\n",
       "1       8/2/1998       0.0  BigBarComplex    Trinity\n",
       "2       8/3/1998       0.0  BigBarComplex    Trinity\n",
       "3       8/4/1998       0.0  BigBarComplex    Trinity\n",
       "4       8/5/1998       0.0  BigBarComplex    Trinity\n",
       "...          ...       ...            ...        ...\n",
       "6388  11/26/2003       0.0          Cedar  San Diego\n",
       "6389  11/27/2003       0.0          Cedar  San Diego\n",
       "6390  11/28/2003       0.0          Cedar  San Diego\n",
       "6391  11/29/2003       0.0          Cedar  San Diego\n",
       "6392  11/30/2003       0.0          Cedar  San Diego\n",
       "\n",
       "[6393 rows x 4 columns]"
      ]
     },
     "execution_count": 3,
     "metadata": {},
     "output_type": "execute_result"
    }
   ],
   "source": [
    "csv_file = \"Resources/Combined_CA_Rainfall.csv\"\n",
    "rainfall_data_df = pd.read_csv(csv_file)\n",
    "rainfall_data_df"
   ]
  },
  {
   "cell_type": "code",
   "execution_count": 4,
   "metadata": {},
   "outputs": [],
   "source": [
    "columns = [\n",
    "    \"reading\",\n",
    "    \"rainfall\",\n",
    "    \"county\",\n",
    "    \"fire_name\"\n",
    "]"
   ]
  },
  {
   "cell_type": "code",
   "execution_count": 5,
   "metadata": {},
   "outputs": [
    {
     "data": {
      "text/html": [
       "<div>\n",
       "<style scoped>\n",
       "    .dataframe tbody tr th:only-of-type {\n",
       "        vertical-align: middle;\n",
       "    }\n",
       "\n",
       "    .dataframe tbody tr th {\n",
       "        vertical-align: top;\n",
       "    }\n",
       "\n",
       "    .dataframe thead th {\n",
       "        text-align: right;\n",
       "    }\n",
       "</style>\n",
       "<table border=\"1\" class=\"dataframe\">\n",
       "  <thead>\n",
       "    <tr style=\"text-align: right;\">\n",
       "      <th></th>\n",
       "      <th>reading</th>\n",
       "      <th>rainfall</th>\n",
       "      <th>fire_name</th>\n",
       "      <th>county</th>\n",
       "    </tr>\n",
       "  </thead>\n",
       "  <tbody>\n",
       "    <tr>\n",
       "      <td>0</td>\n",
       "      <td>1998-08-01</td>\n",
       "      <td>0.0</td>\n",
       "      <td>BigBarComplex</td>\n",
       "      <td>Trinity</td>\n",
       "    </tr>\n",
       "    <tr>\n",
       "      <td>1</td>\n",
       "      <td>1998-08-02</td>\n",
       "      <td>0.0</td>\n",
       "      <td>BigBarComplex</td>\n",
       "      <td>Trinity</td>\n",
       "    </tr>\n",
       "    <tr>\n",
       "      <td>2</td>\n",
       "      <td>1998-08-03</td>\n",
       "      <td>0.0</td>\n",
       "      <td>BigBarComplex</td>\n",
       "      <td>Trinity</td>\n",
       "    </tr>\n",
       "    <tr>\n",
       "      <td>3</td>\n",
       "      <td>1998-08-04</td>\n",
       "      <td>0.0</td>\n",
       "      <td>BigBarComplex</td>\n",
       "      <td>Trinity</td>\n",
       "    </tr>\n",
       "    <tr>\n",
       "      <td>4</td>\n",
       "      <td>1998-08-05</td>\n",
       "      <td>0.0</td>\n",
       "      <td>BigBarComplex</td>\n",
       "      <td>Trinity</td>\n",
       "    </tr>\n",
       "    <tr>\n",
       "      <td>...</td>\n",
       "      <td>...</td>\n",
       "      <td>...</td>\n",
       "      <td>...</td>\n",
       "      <td>...</td>\n",
       "    </tr>\n",
       "    <tr>\n",
       "      <td>6388</td>\n",
       "      <td>2003-11-26</td>\n",
       "      <td>0.0</td>\n",
       "      <td>Cedar</td>\n",
       "      <td>San Diego</td>\n",
       "    </tr>\n",
       "    <tr>\n",
       "      <td>6389</td>\n",
       "      <td>2003-11-27</td>\n",
       "      <td>0.0</td>\n",
       "      <td>Cedar</td>\n",
       "      <td>San Diego</td>\n",
       "    </tr>\n",
       "    <tr>\n",
       "      <td>6390</td>\n",
       "      <td>2003-11-28</td>\n",
       "      <td>0.0</td>\n",
       "      <td>Cedar</td>\n",
       "      <td>San Diego</td>\n",
       "    </tr>\n",
       "    <tr>\n",
       "      <td>6391</td>\n",
       "      <td>2003-11-29</td>\n",
       "      <td>0.0</td>\n",
       "      <td>Cedar</td>\n",
       "      <td>San Diego</td>\n",
       "    </tr>\n",
       "    <tr>\n",
       "      <td>6392</td>\n",
       "      <td>2003-11-30</td>\n",
       "      <td>0.0</td>\n",
       "      <td>Cedar</td>\n",
       "      <td>San Diego</td>\n",
       "    </tr>\n",
       "  </tbody>\n",
       "</table>\n",
       "<p>6393 rows × 4 columns</p>\n",
       "</div>"
      ],
      "text/plain": [
       "        reading  rainfall      fire_name     county\n",
       "0    1998-08-01       0.0  BigBarComplex    Trinity\n",
       "1    1998-08-02       0.0  BigBarComplex    Trinity\n",
       "2    1998-08-03       0.0  BigBarComplex    Trinity\n",
       "3    1998-08-04       0.0  BigBarComplex    Trinity\n",
       "4    1998-08-05       0.0  BigBarComplex    Trinity\n",
       "...         ...       ...            ...        ...\n",
       "6388 2003-11-26       0.0          Cedar  San Diego\n",
       "6389 2003-11-27       0.0          Cedar  San Diego\n",
       "6390 2003-11-28       0.0          Cedar  San Diego\n",
       "6391 2003-11-29       0.0          Cedar  San Diego\n",
       "6392 2003-11-30       0.0          Cedar  San Diego\n",
       "\n",
       "[6393 rows x 4 columns]"
      ]
     },
     "execution_count": 5,
     "metadata": {},
     "output_type": "execute_result"
    }
   ],
   "source": [
    "rainfall_data_df['reading']=pd.to_datetime(rainfall_data_df['reading'])\n",
    "rainfall_data_df"
   ]
  },
  {
   "cell_type": "code",
   "execution_count": 6,
   "metadata": {},
   "outputs": [
    {
     "data": {
      "text/html": [
       "<div>\n",
       "<style scoped>\n",
       "    .dataframe tbody tr th:only-of-type {\n",
       "        vertical-align: middle;\n",
       "    }\n",
       "\n",
       "    .dataframe tbody tr th {\n",
       "        vertical-align: top;\n",
       "    }\n",
       "\n",
       "    .dataframe thead th {\n",
       "        text-align: right;\n",
       "    }\n",
       "</style>\n",
       "<table border=\"1\" class=\"dataframe\">\n",
       "  <thead>\n",
       "    <tr style=\"text-align: right;\">\n",
       "      <th></th>\n",
       "      <th>reading</th>\n",
       "      <th>rainfall</th>\n",
       "      <th>county</th>\n",
       "      <th>fire_name</th>\n",
       "    </tr>\n",
       "  </thead>\n",
       "  <tbody>\n",
       "    <tr>\n",
       "      <td>40</td>\n",
       "      <td>1998-09-10</td>\n",
       "      <td>0.36</td>\n",
       "      <td>Trinity</td>\n",
       "      <td>BigBarComplex</td>\n",
       "    </tr>\n",
       "    <tr>\n",
       "      <td>58</td>\n",
       "      <td>1998-09-28</td>\n",
       "      <td>0.33</td>\n",
       "      <td>Trinity</td>\n",
       "      <td>BigBarComplex</td>\n",
       "    </tr>\n",
       "    <tr>\n",
       "      <td>73</td>\n",
       "      <td>1998-10-13</td>\n",
       "      <td>0.40</td>\n",
       "      <td>Trinity</td>\n",
       "      <td>BigBarComplex</td>\n",
       "    </tr>\n",
       "    <tr>\n",
       "      <td>84</td>\n",
       "      <td>1998-10-24</td>\n",
       "      <td>0.85</td>\n",
       "      <td>Trinity</td>\n",
       "      <td>BigBarComplex</td>\n",
       "    </tr>\n",
       "    <tr>\n",
       "      <td>85</td>\n",
       "      <td>1998-10-25</td>\n",
       "      <td>0.38</td>\n",
       "      <td>Trinity</td>\n",
       "      <td>BigBarComplex</td>\n",
       "    </tr>\n",
       "    <tr>\n",
       "      <td>...</td>\n",
       "      <td>...</td>\n",
       "      <td>...</td>\n",
       "      <td>...</td>\n",
       "      <td>...</td>\n",
       "    </tr>\n",
       "    <tr>\n",
       "      <td>6186</td>\n",
       "      <td>2003-05-08</td>\n",
       "      <td>0.30</td>\n",
       "      <td>San Diego</td>\n",
       "      <td>Cedar</td>\n",
       "    </tr>\n",
       "    <tr>\n",
       "      <td>6232</td>\n",
       "      <td>2003-06-23</td>\n",
       "      <td>0.20</td>\n",
       "      <td>San Diego</td>\n",
       "      <td>Cedar</td>\n",
       "    </tr>\n",
       "    <tr>\n",
       "      <td>6363</td>\n",
       "      <td>2003-11-01</td>\n",
       "      <td>0.16</td>\n",
       "      <td>San Diego</td>\n",
       "      <td>Cedar</td>\n",
       "    </tr>\n",
       "    <tr>\n",
       "      <td>6374</td>\n",
       "      <td>2003-11-12</td>\n",
       "      <td>0.39</td>\n",
       "      <td>San Diego</td>\n",
       "      <td>Cedar</td>\n",
       "    </tr>\n",
       "    <tr>\n",
       "      <td>6378</td>\n",
       "      <td>2003-11-16</td>\n",
       "      <td>0.18</td>\n",
       "      <td>San Diego</td>\n",
       "      <td>Cedar</td>\n",
       "    </tr>\n",
       "  </tbody>\n",
       "</table>\n",
       "<p>926 rows × 4 columns</p>\n",
       "</div>"
      ],
      "text/plain": [
       "        reading  rainfall     county      fire_name\n",
       "40   1998-09-10      0.36    Trinity  BigBarComplex\n",
       "58   1998-09-28      0.33    Trinity  BigBarComplex\n",
       "73   1998-10-13      0.40    Trinity  BigBarComplex\n",
       "84   1998-10-24      0.85    Trinity  BigBarComplex\n",
       "85   1998-10-25      0.38    Trinity  BigBarComplex\n",
       "...         ...       ...        ...            ...\n",
       "6186 2003-05-08      0.30  San Diego          Cedar\n",
       "6232 2003-06-23      0.20  San Diego          Cedar\n",
       "6363 2003-11-01      0.16  San Diego          Cedar\n",
       "6374 2003-11-12      0.39  San Diego          Cedar\n",
       "6378 2003-11-16      0.18  San Diego          Cedar\n",
       "\n",
       "[926 rows x 4 columns]"
      ]
     },
     "execution_count": 6,
     "metadata": {},
     "output_type": "execute_result"
    }
   ],
   "source": [
    "edited_rainfall_data_df = rainfall_data_df.loc[rainfall_data_df[\"rainfall\"] > 0.05, columns]\n",
    "edited_rainfall_data_df"
   ]
  },
  {
   "cell_type": "markdown",
   "metadata": {},
   "source": [
    "## Mendocino Complex Fire:"
   ]
  },
  {
   "cell_type": "code",
   "execution_count": 7,
   "metadata": {},
   "outputs": [],
   "source": [
    "## With cut out 0.0 rainfall days:"
   ]
  },
  {
   "cell_type": "code",
   "execution_count": 8,
   "metadata": {},
   "outputs": [],
   "source": [
    "Mendocino_Complex_pd = edited_rainfall_data_df[(edited_rainfall_data_df['fire_name'] == \"Mendocino\")]"
   ]
  },
  {
   "cell_type": "code",
   "execution_count": 9,
   "metadata": {},
   "outputs": [],
   "source": [
    "Year_Mendocino_Complex_pd = Mendocino_Complex_pd[(Mendocino_Complex_pd['reading'] > '2017-07-27') & (Mendocino_Complex_pd['reading'] < '2018-07-28')]"
   ]
  },
  {
   "cell_type": "code",
   "execution_count": 10,
   "metadata": {},
   "outputs": [],
   "source": [
    "Three_Month_Mendocino_Complex_pd = Mendocino_Complex_pd[(Mendocino_Complex_pd['reading'] > '2018-04-27') & (Mendocino_Complex_pd['reading'] < '2018-07-28')]"
   ]
  },
  {
   "cell_type": "code",
   "execution_count": 11,
   "metadata": {},
   "outputs": [],
   "source": [
    "## Without cut 0.0 rainfall days:"
   ]
  },
  {
   "cell_type": "code",
   "execution_count": 12,
   "metadata": {},
   "outputs": [],
   "source": [
    "unedited_Mendocino_Complex_pd = rainfall_data_df[(rainfall_data_df['fire_name'] == \"Mendocino\")]"
   ]
  },
  {
   "cell_type": "code",
   "execution_count": 13,
   "metadata": {},
   "outputs": [],
   "source": [
    "unedited_Year_Mendocino_Complex_pd = unedited_Mendocino_Complex_pd[(unedited_Mendocino_Complex_pd['reading'] > '2017-07-27') & (unedited_Mendocino_Complex_pd['reading'] < '2018-07-28')]"
   ]
  },
  {
   "cell_type": "code",
   "execution_count": 14,
   "metadata": {},
   "outputs": [],
   "source": [
    "median = unedited_Year_Mendocino_Complex_pd.median()\n",
    "median = median['rainfall']\n",
    "\n",
    "mean = unedited_Year_Mendocino_Complex_pd.mean()\n",
    "mean = mean['rainfall']\n",
    "\n",
    "maximum = unedited_Year_Mendocino_Complex_pd.max()\n",
    "max_date = maximum['reading']\n",
    "maximum = maximum['rainfall']\n",
    "\n",
    "minimum = unedited_Year_Mendocino_Complex_pd.min()\n",
    "minimum = minimum['rainfall']\n"
   ]
  },
  {
   "cell_type": "code",
   "execution_count": 15,
   "metadata": {},
   "outputs": [
    {
     "data": {
      "text/html": [
       "<div>\n",
       "<style scoped>\n",
       "    .dataframe tbody tr th:only-of-type {\n",
       "        vertical-align: middle;\n",
       "    }\n",
       "\n",
       "    .dataframe tbody tr th {\n",
       "        vertical-align: top;\n",
       "    }\n",
       "\n",
       "    .dataframe thead th {\n",
       "        text-align: right;\n",
       "    }\n",
       "</style>\n",
       "<table border=\"1\" class=\"dataframe\">\n",
       "  <thead>\n",
       "    <tr style=\"text-align: right;\">\n",
       "      <th></th>\n",
       "      <th>County</th>\n",
       "      <th>Maximum</th>\n",
       "      <th>Max Date</th>\n",
       "      <th>Minimum</th>\n",
       "      <th>Mean</th>\n",
       "      <th>Median</th>\n",
       "    </tr>\n",
       "  </thead>\n",
       "  <tbody>\n",
       "    <tr>\n",
       "      <td>0</td>\n",
       "      <td>Mendocino</td>\n",
       "      <td>0.58</td>\n",
       "      <td>2018-07-27</td>\n",
       "      <td>0.0</td>\n",
       "      <td>0.117808</td>\n",
       "      <td>0.08</td>\n",
       "    </tr>\n",
       "  </tbody>\n",
       "</table>\n",
       "</div>"
      ],
      "text/plain": [
       "      County  Maximum   Max Date  Minimum      Mean  Median\n",
       "0  Mendocino     0.58 2018-07-27      0.0  0.117808    0.08"
      ]
     },
     "execution_count": 15,
     "metadata": {},
     "output_type": "execute_result"
    }
   ],
   "source": [
    "Mendocino_Summary = pd.DataFrame({\"County\":\"Mendocino\",\n",
    "                              \"Maximum\": maximum,\n",
    "                              \"Max Date\": max_date,\n",
    "                              \"Minimum\": [minimum],\n",
    "                              \"Mean\": mean,\n",
    "                              \"Median\": median})\n",
    "Mendocino_Summary"
   ]
  },
  {
   "cell_type": "markdown",
   "metadata": {},
   "source": [
    "## Thomas Fire:"
   ]
  },
  {
   "cell_type": "code",
   "execution_count": 16,
   "metadata": {},
   "outputs": [],
   "source": [
    "Thomas_pd = edited_rainfall_data_df[(edited_rainfall_data_df['fire_name'] == \"Thomas\")]"
   ]
  },
  {
   "cell_type": "code",
   "execution_count": 17,
   "metadata": {},
   "outputs": [],
   "source": [
    "Year_Thomas_pd = Thomas_pd[(Thomas_pd['reading'] > '2016-12-04') & (Thomas_pd['reading'] < '2017-12-05')]"
   ]
  },
  {
   "cell_type": "code",
   "execution_count": 18,
   "metadata": {},
   "outputs": [],
   "source": [
    "Three_Month_Thomas_pd = Thomas_pd[(Thomas_pd['reading'] > '2017-09-04') & (Thomas_pd['reading'] < '2017-12-05')]"
   ]
  },
  {
   "cell_type": "code",
   "execution_count": 19,
   "metadata": {},
   "outputs": [],
   "source": [
    "unedited_Thomas_pd = rainfall_data_df[(rainfall_data_df['fire_name'] == \"Thomas\")]"
   ]
  },
  {
   "cell_type": "code",
   "execution_count": 20,
   "metadata": {},
   "outputs": [],
   "source": [
    "unedited_Year_Thomas_pd = unedited_Thomas_pd[(unedited_Thomas_pd['reading'] > '2016-12-04') & (unedited_Thomas_pd['reading'] < '2017-12-05')]"
   ]
  },
  {
   "cell_type": "code",
   "execution_count": 21,
   "metadata": {},
   "outputs": [],
   "source": [
    "median = unedited_Year_Thomas_pd.median()\n",
    "median = median['rainfall']\n",
    "\n",
    "mean = unedited_Year_Thomas_pd.mean()\n",
    "mean = mean['rainfall']\n",
    "\n",
    "maximum = unedited_Year_Thomas_pd.max()\n",
    "max_date = maximum['reading']\n",
    "maximum = maximum['rainfall']\n",
    "\n",
    "minimum = unedited_Year_Thomas_pd.min()\n",
    "minimum = minimum['rainfall']\n"
   ]
  },
  {
   "cell_type": "code",
   "execution_count": 22,
   "metadata": {},
   "outputs": [
    {
     "data": {
      "text/html": [
       "<div>\n",
       "<style scoped>\n",
       "    .dataframe tbody tr th:only-of-type {\n",
       "        vertical-align: middle;\n",
       "    }\n",
       "\n",
       "    .dataframe tbody tr th {\n",
       "        vertical-align: top;\n",
       "    }\n",
       "\n",
       "    .dataframe thead th {\n",
       "        text-align: right;\n",
       "    }\n",
       "</style>\n",
       "<table border=\"1\" class=\"dataframe\">\n",
       "  <thead>\n",
       "    <tr style=\"text-align: right;\">\n",
       "      <th></th>\n",
       "      <th>County</th>\n",
       "      <th>Maximum</th>\n",
       "      <th>Max Date</th>\n",
       "      <th>Minimum</th>\n",
       "      <th>Mean</th>\n",
       "      <th>Median</th>\n",
       "    </tr>\n",
       "  </thead>\n",
       "  <tbody>\n",
       "    <tr>\n",
       "      <td>0</td>\n",
       "      <td>Ventura</td>\n",
       "      <td>1.13</td>\n",
       "      <td>2017-12-04</td>\n",
       "      <td>0.0</td>\n",
       "      <td>0.038712</td>\n",
       "      <td>0.0</td>\n",
       "    </tr>\n",
       "  </tbody>\n",
       "</table>\n",
       "</div>"
      ],
      "text/plain": [
       "    County  Maximum   Max Date  Minimum      Mean  Median\n",
       "0  Ventura     1.13 2017-12-04      0.0  0.038712     0.0"
      ]
     },
     "execution_count": 22,
     "metadata": {},
     "output_type": "execute_result"
    }
   ],
   "source": [
    "Thomas_Summary = pd.DataFrame({\"County\":\"Ventura\",\n",
    "                              \"Maximum\": maximum,\n",
    "                              \"Max Date\": max_date,\n",
    "                              \"Minimum\": [minimum],\n",
    "                              \"Mean\": mean,\n",
    "                              \"Median\": median})\n",
    "Thomas_Summary"
   ]
  },
  {
   "cell_type": "markdown",
   "metadata": {},
   "source": [
    "## Cedar Fire:"
   ]
  },
  {
   "cell_type": "code",
   "execution_count": 23,
   "metadata": {},
   "outputs": [],
   "source": [
    "Cedar_pd = edited_rainfall_data_df[(edited_rainfall_data_df['fire_name'] == \"Cedar\")]"
   ]
  },
  {
   "cell_type": "code",
   "execution_count": 24,
   "metadata": {},
   "outputs": [],
   "source": [
    "Year_Cedar_pd = Cedar_pd[(Cedar_pd['reading'] > '2002-10-25') & (Cedar_pd['reading'] < '2003-10-26')]"
   ]
  },
  {
   "cell_type": "code",
   "execution_count": 25,
   "metadata": {},
   "outputs": [],
   "source": [
    "Three_Month_Cedar_pd = Cedar_pd[(Cedar_pd['reading'] > '2002-07-25') & (Cedar_pd['reading'] < '2003-10-26')]"
   ]
  },
  {
   "cell_type": "code",
   "execution_count": 26,
   "metadata": {},
   "outputs": [],
   "source": [
    "unedited_Cedar_pd = rainfall_data_df[(rainfall_data_df['fire_name'] == \"Cedar\")]"
   ]
  },
  {
   "cell_type": "code",
   "execution_count": 27,
   "metadata": {},
   "outputs": [],
   "source": [
    "unedited_Year_Cedar_pd = unedited_Cedar_pd[(unedited_Cedar_pd['reading'] > '2002-10-25') & (unedited_Cedar_pd['reading'] < '2003-10-26')]"
   ]
  },
  {
   "cell_type": "code",
   "execution_count": 28,
   "metadata": {},
   "outputs": [],
   "source": [
    "median = unedited_Year_Cedar_pd.median()\n",
    "median = median['rainfall']\n",
    "\n",
    "mean = unedited_Year_Cedar_pd.mean()\n",
    "mean = mean['rainfall']\n",
    "\n",
    "maximum = unedited_Year_Cedar_pd.max()\n",
    "max_date = maximum['reading']\n",
    "maximum = maximum['rainfall']\n",
    "\n",
    "minimum = unedited_Year_Cedar_pd.min()\n",
    "minimum = minimum['rainfall']\n"
   ]
  },
  {
   "cell_type": "code",
   "execution_count": 29,
   "metadata": {},
   "outputs": [
    {
     "data": {
      "text/html": [
       "<div>\n",
       "<style scoped>\n",
       "    .dataframe tbody tr th:only-of-type {\n",
       "        vertical-align: middle;\n",
       "    }\n",
       "\n",
       "    .dataframe tbody tr th {\n",
       "        vertical-align: top;\n",
       "    }\n",
       "\n",
       "    .dataframe thead th {\n",
       "        text-align: right;\n",
       "    }\n",
       "</style>\n",
       "<table border=\"1\" class=\"dataframe\">\n",
       "  <thead>\n",
       "    <tr style=\"text-align: right;\">\n",
       "      <th></th>\n",
       "      <th>County</th>\n",
       "      <th>Maximum</th>\n",
       "      <th>Max Date</th>\n",
       "      <th>Minimum</th>\n",
       "      <th>Mean</th>\n",
       "      <th>Median</th>\n",
       "    </tr>\n",
       "  </thead>\n",
       "  <tbody>\n",
       "    <tr>\n",
       "      <td>0</td>\n",
       "      <td>San Diego</td>\n",
       "      <td>1.82</td>\n",
       "      <td>2003-10-25</td>\n",
       "      <td>0.0</td>\n",
       "      <td>0.038164</td>\n",
       "      <td>0.0</td>\n",
       "    </tr>\n",
       "  </tbody>\n",
       "</table>\n",
       "</div>"
      ],
      "text/plain": [
       "      County  Maximum   Max Date  Minimum      Mean  Median\n",
       "0  San Diego     1.82 2003-10-25      0.0  0.038164     0.0"
      ]
     },
     "execution_count": 29,
     "metadata": {},
     "output_type": "execute_result"
    }
   ],
   "source": [
    "Cedar_Summary = pd.DataFrame({\"County\":\"San Diego\",\n",
    "                              \"Maximum\": maximum,\n",
    "                              \"Max Date\": max_date,\n",
    "                              \"Minimum\": [minimum],\n",
    "                              \"Mean\": mean,\n",
    "                              \"Median\": median})\n",
    "Cedar_Summary"
   ]
  },
  {
   "cell_type": "markdown",
   "metadata": {},
   "source": [
    "## Rush Fire:"
   ]
  },
  {
   "cell_type": "code",
   "execution_count": 30,
   "metadata": {},
   "outputs": [],
   "source": [
    "Rush_pd = edited_rainfall_data_df[(edited_rainfall_data_df['fire_name'] == \"Rush\")]"
   ]
  },
  {
   "cell_type": "code",
   "execution_count": 31,
   "metadata": {},
   "outputs": [],
   "source": [
    "Year_Rush_pd = Rush_pd[(Rush_pd['reading'] > '2011-08-12') & (Rush_pd['reading'] < '2012-08-13')]"
   ]
  },
  {
   "cell_type": "code",
   "execution_count": 32,
   "metadata": {},
   "outputs": [],
   "source": [
    "Three_Month_Rush_pd = Rush_pd[(Rush_pd['reading'] > '2012-05-12') & (Rush_pd['reading'] < '2012-08-13')]"
   ]
  },
  {
   "cell_type": "code",
   "execution_count": 33,
   "metadata": {},
   "outputs": [],
   "source": [
    "unedited_Rush_pd = rainfall_data_df[(rainfall_data_df['fire_name'] == \"Rush\")]"
   ]
  },
  {
   "cell_type": "code",
   "execution_count": 34,
   "metadata": {},
   "outputs": [],
   "source": [
    "unedited_Year_Rush_pd = unedited_Rush_pd[(unedited_Rush_pd['reading'] > '2011-08-12') & (unedited_Rush_pd['reading'] < '2012-08-13')]"
   ]
  },
  {
   "cell_type": "code",
   "execution_count": 35,
   "metadata": {},
   "outputs": [],
   "source": [
    "median = unedited_Year_Rush_pd.median()\n",
    "median = median['rainfall']\n",
    "\n",
    "mean = unedited_Year_Rush_pd.mean()\n",
    "mean = mean['rainfall']\n",
    "\n",
    "maximum = unedited_Year_Rush_pd.max()\n",
    "max_date = maximum['reading']\n",
    "maximum = maximum['rainfall']\n",
    "\n",
    "minimum = unedited_Year_Rush_pd.min()\n",
    "minimum = minimum['rainfall']"
   ]
  },
  {
   "cell_type": "code",
   "execution_count": 36,
   "metadata": {},
   "outputs": [
    {
     "data": {
      "text/html": [
       "<div>\n",
       "<style scoped>\n",
       "    .dataframe tbody tr th:only-of-type {\n",
       "        vertical-align: middle;\n",
       "    }\n",
       "\n",
       "    .dataframe tbody tr th {\n",
       "        vertical-align: top;\n",
       "    }\n",
       "\n",
       "    .dataframe thead th {\n",
       "        text-align: right;\n",
       "    }\n",
       "</style>\n",
       "<table border=\"1\" class=\"dataframe\">\n",
       "  <thead>\n",
       "    <tr style=\"text-align: right;\">\n",
       "      <th></th>\n",
       "      <th>County</th>\n",
       "      <th>Maximum</th>\n",
       "      <th>Max Date</th>\n",
       "      <th>Minimum</th>\n",
       "      <th>Mean</th>\n",
       "      <th>Median</th>\n",
       "    </tr>\n",
       "  </thead>\n",
       "  <tbody>\n",
       "    <tr>\n",
       "      <td>0</td>\n",
       "      <td>Lassen</td>\n",
       "      <td>1.21</td>\n",
       "      <td>2012-08-12</td>\n",
       "      <td>0.0</td>\n",
       "      <td>0.018525</td>\n",
       "      <td>0.0</td>\n",
       "    </tr>\n",
       "  </tbody>\n",
       "</table>\n",
       "</div>"
      ],
      "text/plain": [
       "   County  Maximum   Max Date  Minimum      Mean  Median\n",
       "0  Lassen     1.21 2012-08-12      0.0  0.018525     0.0"
      ]
     },
     "execution_count": 36,
     "metadata": {},
     "output_type": "execute_result"
    }
   ],
   "source": [
    "Rush_Summary = pd.DataFrame({\"County\":\"Lassen\",\n",
    "                              \"Maximum\": maximum,\n",
    "                              \"Max Date\": max_date,\n",
    "                              \"Minimum\": [minimum],\n",
    "                              \"Mean\": mean,\n",
    "                              \"Median\": median})\n",
    "Rush_Summary"
   ]
  },
  {
   "cell_type": "markdown",
   "metadata": {},
   "source": [
    "## Rush Fire:"
   ]
  },
  {
   "cell_type": "code",
   "execution_count": 37,
   "metadata": {},
   "outputs": [],
   "source": [
    "Rim_pd = edited_rainfall_data_df[(edited_rainfall_data_df['fire_name'] == \"Rim\")]"
   ]
  },
  {
   "cell_type": "code",
   "execution_count": 38,
   "metadata": {},
   "outputs": [],
   "source": [
    "Year_Rim_pd = Rim_pd[(Rim_pd['reading'] > '2012-08-17') & (Rim_pd['reading'] < '2013-08-18')]"
   ]
  },
  {
   "cell_type": "code",
   "execution_count": 39,
   "metadata": {},
   "outputs": [],
   "source": [
    "Three_Month_Rim_pd = Rim_pd[(Rim_pd['reading'] > '2013-05-17') & (Rim_pd['reading'] < '2013-08-18')]"
   ]
  },
  {
   "cell_type": "code",
   "execution_count": 40,
   "metadata": {},
   "outputs": [],
   "source": [
    "unedited_Rim_pd = rainfall_data_df[(rainfall_data_df['fire_name'] == \"Rim\")]"
   ]
  },
  {
   "cell_type": "code",
   "execution_count": 41,
   "metadata": {},
   "outputs": [],
   "source": [
    "unedited_Year_Rim_pd = unedited_Rim_pd[(unedited_Rim_pd['reading'] > '2012-08-17') & (unedited_Rim_pd['reading'] < '2013-08-18')]"
   ]
  },
  {
   "cell_type": "code",
   "execution_count": 42,
   "metadata": {},
   "outputs": [],
   "source": [
    "median = unedited_Year_Rim_pd.median()\n",
    "median = median['rainfall']\n",
    "\n",
    "mean = unedited_Year_Rim_pd.mean()\n",
    "mean = mean['rainfall']\n",
    "\n",
    "maximum = unedited_Year_Rim_pd.max()\n",
    "max_date = maximum['reading']\n",
    "maximum = maximum['rainfall']\n",
    "\n",
    "minimum = unedited_Year_Rim_pd.min()\n",
    "minimum = minimum['rainfall']"
   ]
  },
  {
   "cell_type": "code",
   "execution_count": 43,
   "metadata": {},
   "outputs": [
    {
     "data": {
      "text/html": [
       "<div>\n",
       "<style scoped>\n",
       "    .dataframe tbody tr th:only-of-type {\n",
       "        vertical-align: middle;\n",
       "    }\n",
       "\n",
       "    .dataframe tbody tr th {\n",
       "        vertical-align: top;\n",
       "    }\n",
       "\n",
       "    .dataframe thead th {\n",
       "        text-align: right;\n",
       "    }\n",
       "</style>\n",
       "<table border=\"1\" class=\"dataframe\">\n",
       "  <thead>\n",
       "    <tr style=\"text-align: right;\">\n",
       "      <th></th>\n",
       "      <th>County</th>\n",
       "      <th>Maximum</th>\n",
       "      <th>Max Date</th>\n",
       "      <th>Minimum</th>\n",
       "      <th>Mean</th>\n",
       "      <th>Median</th>\n",
       "    </tr>\n",
       "  </thead>\n",
       "  <tbody>\n",
       "    <tr>\n",
       "      <td>0</td>\n",
       "      <td>Tuolumne</td>\n",
       "      <td>0.4</td>\n",
       "      <td>2013-08-17</td>\n",
       "      <td>0.0</td>\n",
       "      <td>0.102932</td>\n",
       "      <td>0.08</td>\n",
       "    </tr>\n",
       "  </tbody>\n",
       "</table>\n",
       "</div>"
      ],
      "text/plain": [
       "     County  Maximum   Max Date  Minimum      Mean  Median\n",
       "0  Tuolumne      0.4 2013-08-17      0.0  0.102932    0.08"
      ]
     },
     "execution_count": 43,
     "metadata": {},
     "output_type": "execute_result"
    }
   ],
   "source": [
    "Rim_Summary = pd.DataFrame({\"County\":\"Tuolumne\",\n",
    "                              \"Maximum\": maximum,\n",
    "                              \"Max Date\": max_date,\n",
    "                              \"Minimum\": [minimum],\n",
    "                              \"Mean\": mean,\n",
    "                              \"Median\": median})\n",
    "Rim_Summary"
   ]
  },
  {
   "cell_type": "markdown",
   "metadata": {},
   "source": [
    "## Zaca Fire:"
   ]
  },
  {
   "cell_type": "code",
   "execution_count": 44,
   "metadata": {},
   "outputs": [],
   "source": [
    "#Zaca_pd = edited_rainfall_data_df[(edited_rainfall_data_df['fire_name'] == \"Zaca\")]"
   ]
  },
  {
   "cell_type": "markdown",
   "metadata": {},
   "source": [
    "## Carr Fire:"
   ]
  },
  {
   "cell_type": "code",
   "execution_count": 45,
   "metadata": {},
   "outputs": [],
   "source": [
    "Carr_pd = edited_rainfall_data_df[(edited_rainfall_data_df['fire_name'] == \"Carr\")]"
   ]
  },
  {
   "cell_type": "code",
   "execution_count": 46,
   "metadata": {},
   "outputs": [],
   "source": [
    "Year_Carr_pd = Carr_pd[(Carr_pd['reading'] > '2017-07-23') & (Carr_pd['reading'] < '2018-07-24')]"
   ]
  },
  {
   "cell_type": "code",
   "execution_count": 47,
   "metadata": {},
   "outputs": [],
   "source": [
    "Three_Month_Carr_pd = Carr_pd[(Carr_pd['reading'] > '2018-04-23') & (Carr_pd['reading'] < '2018-07-24')]"
   ]
  },
  {
   "cell_type": "code",
   "execution_count": 48,
   "metadata": {},
   "outputs": [],
   "source": [
    "unedited_Carr_pd = rainfall_data_df[(rainfall_data_df['fire_name'] == \"Carr\")]"
   ]
  },
  {
   "cell_type": "code",
   "execution_count": 49,
   "metadata": {},
   "outputs": [],
   "source": [
    "unedited_Year_Carr_pd = unedited_Carr_pd[(unedited_Carr_pd['reading'] > '2017-07-23') & (unedited_Carr_pd['reading'] < '2018-07-24')]"
   ]
  },
  {
   "cell_type": "code",
   "execution_count": 50,
   "metadata": {},
   "outputs": [],
   "source": [
    "median = unedited_Year_Carr_pd.median()\n",
    "median = median['rainfall']\n",
    "\n",
    "mean = unedited_Year_Carr_pd.mean()\n",
    "mean = mean['rainfall']\n",
    "\n",
    "maximum = unedited_Year_Carr_pd.max()\n",
    "max_date = maximum['reading']\n",
    "maximum = maximum['rainfall']\n",
    "\n",
    "minimum = unedited_Year_Carr_pd.min()\n",
    "minimum = minimum['rainfall']"
   ]
  },
  {
   "cell_type": "code",
   "execution_count": 51,
   "metadata": {},
   "outputs": [
    {
     "data": {
      "text/html": [
       "<div>\n",
       "<style scoped>\n",
       "    .dataframe tbody tr th:only-of-type {\n",
       "        vertical-align: middle;\n",
       "    }\n",
       "\n",
       "    .dataframe tbody tr th {\n",
       "        vertical-align: top;\n",
       "    }\n",
       "\n",
       "    .dataframe thead th {\n",
       "        text-align: right;\n",
       "    }\n",
       "</style>\n",
       "<table border=\"1\" class=\"dataframe\">\n",
       "  <thead>\n",
       "    <tr style=\"text-align: right;\">\n",
       "      <th></th>\n",
       "      <th>County</th>\n",
       "      <th>Maximum</th>\n",
       "      <th>Max Date</th>\n",
       "      <th>Minimum</th>\n",
       "      <th>Mean</th>\n",
       "      <th>Median</th>\n",
       "    </tr>\n",
       "  </thead>\n",
       "  <tbody>\n",
       "    <tr>\n",
       "      <td>0</td>\n",
       "      <td>Shasta</td>\n",
       "      <td>1.09</td>\n",
       "      <td>2018-07-23</td>\n",
       "      <td>0.0</td>\n",
       "      <td>0.047644</td>\n",
       "      <td>0.0</td>\n",
       "    </tr>\n",
       "  </tbody>\n",
       "</table>\n",
       "</div>"
      ],
      "text/plain": [
       "   County  Maximum   Max Date  Minimum      Mean  Median\n",
       "0  Shasta     1.09 2018-07-23      0.0  0.047644     0.0"
      ]
     },
     "execution_count": 51,
     "metadata": {},
     "output_type": "execute_result"
    }
   ],
   "source": [
    "Carr_Summary = pd.DataFrame({\"County\":\"Shasta\",\n",
    "                              \"Maximum\": maximum,\n",
    "                              \"Max Date\": max_date,\n",
    "                              \"Minimum\": [minimum],\n",
    "                              \"Mean\": mean,\n",
    "                              \"Median\": median})\n",
    "Carr_Summary"
   ]
  },
  {
   "cell_type": "markdown",
   "metadata": {},
   "source": [
    "## Matilija Fire:"
   ]
  },
  {
   "cell_type": "code",
   "execution_count": 52,
   "metadata": {},
   "outputs": [],
   "source": [
    "##Matilija_pd = rainfall_data_df[(rainfall_data_df['fire_name'] == \"Matilija\")]"
   ]
  },
  {
   "cell_type": "markdown",
   "metadata": {},
   "source": [
    "## Witch Fire:"
   ]
  },
  {
   "cell_type": "code",
   "execution_count": 53,
   "metadata": {},
   "outputs": [],
   "source": [
    "Witch_pd = edited_rainfall_data_df[(edited_rainfall_data_df['fire_name'] == \"Witch\")]"
   ]
  },
  {
   "cell_type": "code",
   "execution_count": 54,
   "metadata": {},
   "outputs": [],
   "source": [
    "Year_Witch_pd = Witch_pd[(Witch_pd['reading'] > '2006-10-21') & (Witch_pd['reading'] < '2007-10-22')]"
   ]
  },
  {
   "cell_type": "code",
   "execution_count": 55,
   "metadata": {},
   "outputs": [],
   "source": [
    "Three_Month_Witch_pd = Witch_pd[(Witch_pd['reading'] > '2007-07-21') & (Witch_pd['reading'] < '2007-10-22')]"
   ]
  },
  {
   "cell_type": "code",
   "execution_count": 56,
   "metadata": {},
   "outputs": [],
   "source": [
    "unedited_Witch_pd = rainfall_data_df[(rainfall_data_df['fire_name'] == \"Witch\")]"
   ]
  },
  {
   "cell_type": "code",
   "execution_count": 57,
   "metadata": {},
   "outputs": [],
   "source": [
    "unedited_Year_Witch_pd = unedited_Witch_pd[(unedited_Witch_pd['reading'] > '2006-10-21') & (unedited_Witch_pd['reading'] < '2007-10-22')]"
   ]
  },
  {
   "cell_type": "code",
   "execution_count": 58,
   "metadata": {},
   "outputs": [],
   "source": [
    "median = unedited_Year_Witch_pd.median()\n",
    "median = median['rainfall']\n",
    "\n",
    "mean = unedited_Year_Witch_pd.mean()\n",
    "mean = mean['rainfall']\n",
    "\n",
    "maximum = unedited_Year_Witch_pd.max()\n",
    "max_date = maximum['reading']\n",
    "maximum = maximum['rainfall']\n",
    "\n",
    "minimum = unedited_Year_Witch_pd.min()\n",
    "minimum = minimum['rainfall']"
   ]
  },
  {
   "cell_type": "code",
   "execution_count": 59,
   "metadata": {},
   "outputs": [
    {
     "data": {
      "text/html": [
       "<div>\n",
       "<style scoped>\n",
       "    .dataframe tbody tr th:only-of-type {\n",
       "        vertical-align: middle;\n",
       "    }\n",
       "\n",
       "    .dataframe tbody tr th {\n",
       "        vertical-align: top;\n",
       "    }\n",
       "\n",
       "    .dataframe thead th {\n",
       "        text-align: right;\n",
       "    }\n",
       "</style>\n",
       "<table border=\"1\" class=\"dataframe\">\n",
       "  <thead>\n",
       "    <tr style=\"text-align: right;\">\n",
       "      <th></th>\n",
       "      <th>County</th>\n",
       "      <th>Maximum</th>\n",
       "      <th>Max Date</th>\n",
       "      <th>Minimum</th>\n",
       "      <th>Mean</th>\n",
       "      <th>Median</th>\n",
       "    </tr>\n",
       "  </thead>\n",
       "  <tbody>\n",
       "    <tr>\n",
       "      <td>0</td>\n",
       "      <td>San Diego</td>\n",
       "      <td>0.7</td>\n",
       "      <td>2007-10-21</td>\n",
       "      <td>0.0</td>\n",
       "      <td>0.014932</td>\n",
       "      <td>0.0</td>\n",
       "    </tr>\n",
       "  </tbody>\n",
       "</table>\n",
       "</div>"
      ],
      "text/plain": [
       "      County  Maximum   Max Date  Minimum      Mean  Median\n",
       "0  San Diego      0.7 2007-10-21      0.0  0.014932     0.0"
      ]
     },
     "execution_count": 59,
     "metadata": {},
     "output_type": "execute_result"
    }
   ],
   "source": [
    "Witch_Summary = pd.DataFrame({\"County\":\"San Diego\",\n",
    "                              \"Maximum\": maximum,\n",
    "                              \"Max Date\": max_date,\n",
    "                              \"Minimum\": [minimum],\n",
    "                              \"Mean\": mean,\n",
    "                              \"Median\": median})\n",
    "Witch_Summary"
   ]
  },
  {
   "cell_type": "markdown",
   "metadata": {},
   "source": [
    "## Klamath Fire:"
   ]
  },
  {
   "cell_type": "code",
   "execution_count": 60,
   "metadata": {},
   "outputs": [],
   "source": [
    "Klamath_Theater_Complex_pd = edited_rainfall_data_df[(edited_rainfall_data_df['fire_name'] == \"Klamath\")]"
   ]
  },
  {
   "cell_type": "code",
   "execution_count": 61,
   "metadata": {},
   "outputs": [],
   "source": [
    "Year_Klamath_Theater_Complex_pd = Klamath_Theater_Complex_pd[(Klamath_Theater_Complex_pd['reading'] > '2007-06-21') & (Klamath_Theater_Complex_pd['reading'] < '2008-06-22')]"
   ]
  },
  {
   "cell_type": "code",
   "execution_count": 62,
   "metadata": {},
   "outputs": [],
   "source": [
    "Three_Month_Klamath_Theater_Complex_pd = Klamath_Theater_Complex_pd[(Klamath_Theater_Complex_pd['reading'] > '2008-03-21') & (Klamath_Theater_Complex_pd['reading'] < '2008-06-22')]"
   ]
  },
  {
   "cell_type": "code",
   "execution_count": 63,
   "metadata": {},
   "outputs": [],
   "source": [
    "unedited_Klamath_Theater_Complex_pd = rainfall_data_df[(rainfall_data_df['fire_name'] == \"Klamath\")]"
   ]
  },
  {
   "cell_type": "code",
   "execution_count": 64,
   "metadata": {},
   "outputs": [],
   "source": [
    "unedited_Year_Klamath_Theater_Complex_pd = unedited_Klamath_Theater_Complex_pd[(unedited_Klamath_Theater_Complex_pd['reading'] > '2007-06-21') & (unedited_Klamath_Theater_Complex_pd['reading'] < '2008-06-22')]"
   ]
  },
  {
   "cell_type": "code",
   "execution_count": 65,
   "metadata": {},
   "outputs": [],
   "source": [
    "median = unedited_Year_Klamath_Theater_Complex_pd.median()\n",
    "median = median['rainfall']\n",
    "\n",
    "mean = unedited_Year_Klamath_Theater_Complex_pd.mean()\n",
    "mean = mean['rainfall']\n",
    "\n",
    "maximum = unedited_Year_Klamath_Theater_Complex_pd.max()\n",
    "max_date = maximum['reading']\n",
    "maximum = maximum['rainfall']\n",
    "\n",
    "minimum = unedited_Year_Klamath_Theater_Complex_pd.min()\n",
    "minimum = minimum['rainfall']"
   ]
  },
  {
   "cell_type": "code",
   "execution_count": 66,
   "metadata": {},
   "outputs": [
    {
     "data": {
      "text/html": [
       "<div>\n",
       "<style scoped>\n",
       "    .dataframe tbody tr th:only-of-type {\n",
       "        vertical-align: middle;\n",
       "    }\n",
       "\n",
       "    .dataframe tbody tr th {\n",
       "        vertical-align: top;\n",
       "    }\n",
       "\n",
       "    .dataframe thead th {\n",
       "        text-align: right;\n",
       "    }\n",
       "</style>\n",
       "<table border=\"1\" class=\"dataframe\">\n",
       "  <thead>\n",
       "    <tr style=\"text-align: right;\">\n",
       "      <th></th>\n",
       "      <th>County</th>\n",
       "      <th>Maximum</th>\n",
       "      <th>Max Date</th>\n",
       "      <th>Minimum</th>\n",
       "      <th>Mean</th>\n",
       "      <th>Median</th>\n",
       "    </tr>\n",
       "  </thead>\n",
       "  <tbody>\n",
       "    <tr>\n",
       "      <td>0</td>\n",
       "      <td>Siskiyou</td>\n",
       "      <td>2.08</td>\n",
       "      <td>2008-06-21</td>\n",
       "      <td>0.0</td>\n",
       "      <td>0.064153</td>\n",
       "      <td>0.0</td>\n",
       "    </tr>\n",
       "  </tbody>\n",
       "</table>\n",
       "</div>"
      ],
      "text/plain": [
       "     County  Maximum   Max Date  Minimum      Mean  Median\n",
       "0  Siskiyou     2.08 2008-06-21      0.0  0.064153     0.0"
      ]
     },
     "execution_count": 66,
     "metadata": {},
     "output_type": "execute_result"
    }
   ],
   "source": [
    "Klamath_Summary = pd.DataFrame({\"County\":\"Siskiyou\",\n",
    "                              \"Maximum\": maximum,\n",
    "                              \"Max Date\": max_date,\n",
    "                              \"Minimum\": [minimum],\n",
    "                              \"Mean\": mean,\n",
    "                              \"Median\": median})\n",
    "Klamath_Summary"
   ]
  },
  {
   "cell_type": "markdown",
   "metadata": {},
   "source": [
    "## Marble Fire:"
   ]
  },
  {
   "cell_type": "code",
   "execution_count": 67,
   "metadata": {},
   "outputs": [],
   "source": [
    "##Marble_cone_pd = rainfall_data_df[(rainfall_data_df['fire_name'] == \"Marble\")]"
   ]
  },
  {
   "cell_type": "markdown",
   "metadata": {},
   "source": [
    "## Laguna Fire:"
   ]
  },
  {
   "cell_type": "code",
   "execution_count": 68,
   "metadata": {},
   "outputs": [],
   "source": [
    "##Laguna_pd = rainfall_data_df[(rainfall_data_df['fire_name'] == \"Laguna\")]"
   ]
  },
  {
   "cell_type": "markdown",
   "metadata": {},
   "source": [
    "## Basin Complex Fire:"
   ]
  },
  {
   "cell_type": "code",
   "execution_count": 69,
   "metadata": {},
   "outputs": [],
   "source": [
    "Basin_Complex_pd = edited_rainfall_data_df[(edited_rainfall_data_df['fire_name'] == \"Basin\")]"
   ]
  },
  {
   "cell_type": "code",
   "execution_count": 70,
   "metadata": {},
   "outputs": [],
   "source": [
    "Year_Basin_Complex_pd = Basin_Complex_pd[(Basin_Complex_pd['reading'] > '2007-06-21') & (Basin_Complex_pd['reading'] < '2008-06-22')]"
   ]
  },
  {
   "cell_type": "code",
   "execution_count": 71,
   "metadata": {},
   "outputs": [],
   "source": [
    "Three_Month_Basin_Complex_pd = Basin_Complex_pd[(Basin_Complex_pd['reading'] > '2008-03-21') & (Basin_Complex_pd['reading'] < '2008-06-22')]"
   ]
  },
  {
   "cell_type": "code",
   "execution_count": 72,
   "metadata": {},
   "outputs": [],
   "source": [
    "unedited_Basin_Complex_pd = rainfall_data_df[(rainfall_data_df['fire_name'] == \"Basin\")]"
   ]
  },
  {
   "cell_type": "code",
   "execution_count": 73,
   "metadata": {},
   "outputs": [],
   "source": [
    "unedited_Year_Basin_Complex_pd = unedited_Basin_Complex_pd[(unedited_Basin_Complex_pd['reading'] > '2007-06-21') & (unedited_Basin_Complex_pd['reading'] < '2008-06-22')]"
   ]
  },
  {
   "cell_type": "code",
   "execution_count": 74,
   "metadata": {},
   "outputs": [],
   "source": [
    "median = unedited_Year_Basin_Complex_pd.median()\n",
    "median = median['rainfall']\n",
    "\n",
    "mean = unedited_Year_Basin_Complex_pd.mean()\n",
    "mean = mean['rainfall']\n",
    "\n",
    "maximum = unedited_Year_Basin_Complex_pd.max()\n",
    "max_date = maximum['reading']\n",
    "maximum = maximum['rainfall']\n",
    "\n",
    "minimum = unedited_Year_Basin_Complex_pd.min()\n",
    "minimum = minimum['rainfall']"
   ]
  },
  {
   "cell_type": "code",
   "execution_count": 75,
   "metadata": {},
   "outputs": [
    {
     "data": {
      "text/html": [
       "<div>\n",
       "<style scoped>\n",
       "    .dataframe tbody tr th:only-of-type {\n",
       "        vertical-align: middle;\n",
       "    }\n",
       "\n",
       "    .dataframe tbody tr th {\n",
       "        vertical-align: top;\n",
       "    }\n",
       "\n",
       "    .dataframe thead th {\n",
       "        text-align: right;\n",
       "    }\n",
       "</style>\n",
       "<table border=\"1\" class=\"dataframe\">\n",
       "  <thead>\n",
       "    <tr style=\"text-align: right;\">\n",
       "      <th></th>\n",
       "      <th>County</th>\n",
       "      <th>Maximum</th>\n",
       "      <th>Max Date</th>\n",
       "      <th>Minimum</th>\n",
       "      <th>Mean</th>\n",
       "      <th>Median</th>\n",
       "    </tr>\n",
       "  </thead>\n",
       "  <tbody>\n",
       "    <tr>\n",
       "      <td>0</td>\n",
       "      <td>Monterey</td>\n",
       "      <td>2.01</td>\n",
       "      <td>2008-06-21</td>\n",
       "      <td>0.0</td>\n",
       "      <td>0.025546</td>\n",
       "      <td>0.0</td>\n",
       "    </tr>\n",
       "  </tbody>\n",
       "</table>\n",
       "</div>"
      ],
      "text/plain": [
       "     County  Maximum   Max Date  Minimum      Mean  Median\n",
       "0  Monterey     2.01 2008-06-21      0.0  0.025546     0.0"
      ]
     },
     "execution_count": 75,
     "metadata": {},
     "output_type": "execute_result"
    }
   ],
   "source": [
    "Basin_Summary = pd.DataFrame({\"County\":\"Monterey\",\n",
    "                              \"Maximum\": maximum,\n",
    "                              \"Max Date\": max_date,\n",
    "                              \"Minimum\": [minimum],\n",
    "                              \"Mean\": mean,\n",
    "                              \"Median\": median})\n",
    "Basin_Summary"
   ]
  },
  {
   "cell_type": "markdown",
   "metadata": {},
   "source": [
    "## Day Fire:"
   ]
  },
  {
   "cell_type": "code",
   "execution_count": 76,
   "metadata": {},
   "outputs": [],
   "source": [
    "Day_pd = edited_rainfall_data_df[(edited_rainfall_data_df['fire_name'] == \"Day\")]"
   ]
  },
  {
   "cell_type": "code",
   "execution_count": 77,
   "metadata": {},
   "outputs": [],
   "source": [
    "Year_Day_pd = Day_pd[(Day_pd['reading'] > '2005-09-04') & (Day_pd['reading'] < '2006-09-05')]"
   ]
  },
  {
   "cell_type": "code",
   "execution_count": 78,
   "metadata": {},
   "outputs": [],
   "source": [
    "Three_Month_Day_pd = Day_pd[(Day_pd['reading'] > '2006-06-04') & (Day_pd['reading'] < '2006-09-05')]"
   ]
  },
  {
   "cell_type": "code",
   "execution_count": 79,
   "metadata": {},
   "outputs": [],
   "source": [
    "unedited_Day_pd = rainfall_data_df[(rainfall_data_df['fire_name'] == \"Day\")]"
   ]
  },
  {
   "cell_type": "code",
   "execution_count": 80,
   "metadata": {},
   "outputs": [],
   "source": [
    "unedited_Year_Day_pd = unedited_Day_pd[(unedited_Day_pd['reading'] > '2005-09-04') & (unedited_Day_pd['reading'] < '2006-09-05')]"
   ]
  },
  {
   "cell_type": "code",
   "execution_count": 81,
   "metadata": {},
   "outputs": [],
   "source": [
    "median = unedited_Year_Day_pd.median()\n",
    "median = median['rainfall']\n",
    "\n",
    "mean = unedited_Year_Day_pd.mean()\n",
    "mean = mean['rainfall']\n",
    "\n",
    "maximum = unedited_Year_Day_pd.max()\n",
    "max_date = maximum['reading']\n",
    "maximum = maximum['rainfall']\n",
    "\n",
    "minimum = unedited_Year_Day_pd.min()\n",
    "minimum = minimum['rainfall']"
   ]
  },
  {
   "cell_type": "code",
   "execution_count": 82,
   "metadata": {},
   "outputs": [
    {
     "data": {
      "text/html": [
       "<div>\n",
       "<style scoped>\n",
       "    .dataframe tbody tr th:only-of-type {\n",
       "        vertical-align: middle;\n",
       "    }\n",
       "\n",
       "    .dataframe tbody tr th {\n",
       "        vertical-align: top;\n",
       "    }\n",
       "\n",
       "    .dataframe thead th {\n",
       "        text-align: right;\n",
       "    }\n",
       "</style>\n",
       "<table border=\"1\" class=\"dataframe\">\n",
       "  <thead>\n",
       "    <tr style=\"text-align: right;\">\n",
       "      <th></th>\n",
       "      <th>County</th>\n",
       "      <th>Maximum</th>\n",
       "      <th>Max Date</th>\n",
       "      <th>Minimum</th>\n",
       "      <th>Mean</th>\n",
       "      <th>Median</th>\n",
       "    </tr>\n",
       "  </thead>\n",
       "  <tbody>\n",
       "    <tr>\n",
       "      <td>0</td>\n",
       "      <td>Ventura</td>\n",
       "      <td>3.6</td>\n",
       "      <td>2006-09-04</td>\n",
       "      <td>0.0</td>\n",
       "      <td>0.070438</td>\n",
       "      <td>0.0</td>\n",
       "    </tr>\n",
       "  </tbody>\n",
       "</table>\n",
       "</div>"
      ],
      "text/plain": [
       "    County  Maximum   Max Date  Minimum      Mean  Median\n",
       "0  Ventura      3.6 2006-09-04      0.0  0.070438     0.0"
      ]
     },
     "execution_count": 82,
     "metadata": {},
     "output_type": "execute_result"
    }
   ],
   "source": [
    "Day_Summary = pd.DataFrame({\"County\":\"Ventura\",\n",
    "                              \"Maximum\": maximum,\n",
    "                              \"Max Date\": max_date,\n",
    "                              \"Minimum\": [minimum],\n",
    "                              \"Mean\": mean,\n",
    "                              \"Median\": median})\n",
    "Day_Summary"
   ]
  },
  {
   "cell_type": "markdown",
   "metadata": {},
   "source": [
    "## Station Fire:"
   ]
  },
  {
   "cell_type": "code",
   "execution_count": 83,
   "metadata": {},
   "outputs": [],
   "source": [
    "Station_pd = edited_rainfall_data_df[(edited_rainfall_data_df['fire_name'] == \"Station\")]"
   ]
  },
  {
   "cell_type": "code",
   "execution_count": 84,
   "metadata": {},
   "outputs": [],
   "source": [
    "Year_Station_pd = Station_pd[(Station_pd['reading'] > '2008-08-26') & (Station_pd['reading'] < '2009-08-27')]"
   ]
  },
  {
   "cell_type": "code",
   "execution_count": 85,
   "metadata": {},
   "outputs": [],
   "source": [
    "Three_Month_Station_pd = Station_pd[(Station_pd['reading'] > '2009-05-26') & (Station_pd['reading'] < '2009-08-27')]"
   ]
  },
  {
   "cell_type": "code",
   "execution_count": 86,
   "metadata": {},
   "outputs": [],
   "source": [
    "unedited_Station_pd = rainfall_data_df[(rainfall_data_df['fire_name'] == \"Station\")]"
   ]
  },
  {
   "cell_type": "code",
   "execution_count": 87,
   "metadata": {},
   "outputs": [],
   "source": [
    "unedited_Year_Station_pd = unedited_Station_pd[(unedited_Station_pd['reading'] > '2008-08-26') & (unedited_Station_pd['reading'] < '2009-08-27')]"
   ]
  },
  {
   "cell_type": "code",
   "execution_count": 88,
   "metadata": {},
   "outputs": [],
   "source": [
    "median = unedited_Year_Station_pd.median()\n",
    "median = median['rainfall']\n",
    "\n",
    "mean = unedited_Year_Station_pd.mean()\n",
    "mean = mean['rainfall']\n",
    "\n",
    "maximum = unedited_Year_Station_pd.max()\n",
    "max_date = maximum['reading']\n",
    "maximum = maximum['rainfall']\n",
    "\n",
    "minimum = unedited_Year_Station_pd.min()\n",
    "minimum = minimum['rainfall']"
   ]
  },
  {
   "cell_type": "code",
   "execution_count": 89,
   "metadata": {},
   "outputs": [
    {
     "data": {
      "text/html": [
       "<div>\n",
       "<style scoped>\n",
       "    .dataframe tbody tr th:only-of-type {\n",
       "        vertical-align: middle;\n",
       "    }\n",
       "\n",
       "    .dataframe tbody tr th {\n",
       "        vertical-align: top;\n",
       "    }\n",
       "\n",
       "    .dataframe thead th {\n",
       "        text-align: right;\n",
       "    }\n",
       "</style>\n",
       "<table border=\"1\" class=\"dataframe\">\n",
       "  <thead>\n",
       "    <tr style=\"text-align: right;\">\n",
       "      <th></th>\n",
       "      <th>County</th>\n",
       "      <th>Maximum</th>\n",
       "      <th>Max Date</th>\n",
       "      <th>Minimum</th>\n",
       "      <th>Mean</th>\n",
       "      <th>Median</th>\n",
       "    </tr>\n",
       "  </thead>\n",
       "  <tbody>\n",
       "    <tr>\n",
       "      <td>0</td>\n",
       "      <td>Los Angeles</td>\n",
       "      <td>1.06</td>\n",
       "      <td>2009-08-26</td>\n",
       "      <td>0.0</td>\n",
       "      <td>0.017452</td>\n",
       "      <td>0.0</td>\n",
       "    </tr>\n",
       "  </tbody>\n",
       "</table>\n",
       "</div>"
      ],
      "text/plain": [
       "        County  Maximum   Max Date  Minimum      Mean  Median\n",
       "0  Los Angeles     1.06 2009-08-26      0.0  0.017452     0.0"
      ]
     },
     "execution_count": 89,
     "metadata": {},
     "output_type": "execute_result"
    }
   ],
   "source": [
    "Station_Summary = pd.DataFrame({\"County\":\"Los Angeles\",\n",
    "                              \"Maximum\": maximum,\n",
    "                              \"Max Date\": max_date,\n",
    "                              \"Minimum\": [minimum],\n",
    "                              \"Mean\": mean,\n",
    "                              \"Median\": median})\n",
    "Station_Summary"
   ]
  },
  {
   "cell_type": "markdown",
   "metadata": {},
   "source": [
    "## Camp Fire:"
   ]
  },
  {
   "cell_type": "code",
   "execution_count": 90,
   "metadata": {},
   "outputs": [],
   "source": [
    "Camp_pd = edited_rainfall_data_df[(edited_rainfall_data_df['fire_name'] == \"Camp\")]"
   ]
  },
  {
   "cell_type": "code",
   "execution_count": 91,
   "metadata": {},
   "outputs": [],
   "source": [
    "Year_Camp_pd = Camp_pd[(Camp_pd['reading'] > '2017-11-08') & (Camp_pd['reading'] < '2018-11-09')]"
   ]
  },
  {
   "cell_type": "code",
   "execution_count": 92,
   "metadata": {},
   "outputs": [],
   "source": [
    "Three_Month_Camp_pd = Camp_pd[(Camp_pd['reading'] > '2018-08-08') & (Camp_pd['reading'] < '2018-11-09')]"
   ]
  },
  {
   "cell_type": "code",
   "execution_count": 93,
   "metadata": {},
   "outputs": [],
   "source": [
    "unedited_Camp_pd = rainfall_data_df[(rainfall_data_df['fire_name'] == \"Camp\")]"
   ]
  },
  {
   "cell_type": "code",
   "execution_count": 94,
   "metadata": {},
   "outputs": [],
   "source": [
    "unedited_Year_Camp_pd = unedited_Camp_pd[(unedited_Camp_pd['reading'] > '2017-11-08') & (unedited_Camp_pd['reading'] < '2018-11-09')]"
   ]
  },
  {
   "cell_type": "code",
   "execution_count": 95,
   "metadata": {},
   "outputs": [],
   "source": [
    "median = unedited_Year_Camp_pd.median()\n",
    "median = median['rainfall']\n",
    "\n",
    "mean = unedited_Year_Camp_pd.mean()\n",
    "mean = mean['rainfall']\n",
    "\n",
    "maximum = unedited_Year_Camp_pd.max()\n",
    "max_date = maximum['reading']\n",
    "maximum = maximum['rainfall']\n",
    "\n",
    "minimum = unedited_Year_Camp_pd.min()\n",
    "minimum = minimum['rainfall']"
   ]
  },
  {
   "cell_type": "code",
   "execution_count": 96,
   "metadata": {},
   "outputs": [
    {
     "data": {
      "text/html": [
       "<div>\n",
       "<style scoped>\n",
       "    .dataframe tbody tr th:only-of-type {\n",
       "        vertical-align: middle;\n",
       "    }\n",
       "\n",
       "    .dataframe tbody tr th {\n",
       "        vertical-align: top;\n",
       "    }\n",
       "\n",
       "    .dataframe thead th {\n",
       "        text-align: right;\n",
       "    }\n",
       "</style>\n",
       "<table border=\"1\" class=\"dataframe\">\n",
       "  <thead>\n",
       "    <tr style=\"text-align: right;\">\n",
       "      <th></th>\n",
       "      <th>County</th>\n",
       "      <th>Maximum</th>\n",
       "      <th>Max Date</th>\n",
       "      <th>Minimum</th>\n",
       "      <th>Mean</th>\n",
       "      <th>Median</th>\n",
       "    </tr>\n",
       "  </thead>\n",
       "  <tbody>\n",
       "    <tr>\n",
       "      <td>0</td>\n",
       "      <td>Butte</td>\n",
       "      <td>2.25</td>\n",
       "      <td>2018-11-08</td>\n",
       "      <td>0.0</td>\n",
       "      <td>0.038247</td>\n",
       "      <td>0.0</td>\n",
       "    </tr>\n",
       "  </tbody>\n",
       "</table>\n",
       "</div>"
      ],
      "text/plain": [
       "  County  Maximum   Max Date  Minimum      Mean  Median\n",
       "0  Butte     2.25 2018-11-08      0.0  0.038247     0.0"
      ]
     },
     "execution_count": 96,
     "metadata": {},
     "output_type": "execute_result"
    }
   ],
   "source": [
    "Camp_Summary = pd.DataFrame({\"County\":\"Butte\",\n",
    "                              \"Maximum\": maximum,\n",
    "                              \"Max Date\": max_date,\n",
    "                              \"Minimum\": [minimum],\n",
    "                              \"Mean\": mean,\n",
    "                              \"Median\": median})\n",
    "Camp_Summary"
   ]
  },
  {
   "cell_type": "markdown",
   "metadata": {},
   "source": [
    "## Rough Fire:"
   ]
  },
  {
   "cell_type": "code",
   "execution_count": 97,
   "metadata": {},
   "outputs": [],
   "source": [
    "Rough_pd = edited_rainfall_data_df[(edited_rainfall_data_df['fire_name'] == \"Rough\")]"
   ]
  },
  {
   "cell_type": "code",
   "execution_count": 98,
   "metadata": {},
   "outputs": [],
   "source": [
    "Year_Rough_pd = Rough_pd[(Rough_pd['reading'] > '2014-07-31') & (Rough_pd['reading'] < '2015-08-01')]"
   ]
  },
  {
   "cell_type": "code",
   "execution_count": 99,
   "metadata": {},
   "outputs": [],
   "source": [
    "Three_Month_Rough_pd = Rough_pd[(Rough_pd['reading'] > '2015-05-31') & (Rough_pd['reading'] < '2015-08-01')]"
   ]
  },
  {
   "cell_type": "code",
   "execution_count": 100,
   "metadata": {},
   "outputs": [],
   "source": [
    "unedited_Rough_pd = rainfall_data_df[(rainfall_data_df['fire_name'] == \"Rough\")]"
   ]
  },
  {
   "cell_type": "code",
   "execution_count": 101,
   "metadata": {},
   "outputs": [],
   "source": [
    "unedited_Year_Rough_pd = unedited_Rough_pd[(unedited_Rough_pd['reading'] > '2014-07-31') & (unedited_Rough_pd['reading'] < '2015-08-01')]"
   ]
  },
  {
   "cell_type": "code",
   "execution_count": 102,
   "metadata": {},
   "outputs": [],
   "source": [
    "median = unedited_Year_Rough_pd.median()\n",
    "median = median['rainfall']\n",
    "\n",
    "mean = unedited_Year_Rough_pd.mean()\n",
    "mean = mean['rainfall']\n",
    "\n",
    "maximum = unedited_Year_Rough_pd.max()\n",
    "max_date = maximum['reading']\n",
    "maximum = maximum['rainfall']\n",
    "\n",
    "minimum = unedited_Year_Rough_pd.min()\n",
    "minimum = minimum['rainfall']"
   ]
  },
  {
   "cell_type": "code",
   "execution_count": 103,
   "metadata": {},
   "outputs": [
    {
     "data": {
      "text/html": [
       "<div>\n",
       "<style scoped>\n",
       "    .dataframe tbody tr th:only-of-type {\n",
       "        vertical-align: middle;\n",
       "    }\n",
       "\n",
       "    .dataframe tbody tr th {\n",
       "        vertical-align: top;\n",
       "    }\n",
       "\n",
       "    .dataframe thead th {\n",
       "        text-align: right;\n",
       "    }\n",
       "</style>\n",
       "<table border=\"1\" class=\"dataframe\">\n",
       "  <thead>\n",
       "    <tr style=\"text-align: right;\">\n",
       "      <th></th>\n",
       "      <th>County</th>\n",
       "      <th>Maximum</th>\n",
       "      <th>Max Date</th>\n",
       "      <th>Minimum</th>\n",
       "      <th>Mean</th>\n",
       "      <th>Median</th>\n",
       "    </tr>\n",
       "  </thead>\n",
       "  <tbody>\n",
       "    <tr>\n",
       "      <td>0</td>\n",
       "      <td>Fresno</td>\n",
       "      <td>1.14</td>\n",
       "      <td>2015-07-30</td>\n",
       "      <td>0.0</td>\n",
       "      <td>0.015522</td>\n",
       "      <td>0.0</td>\n",
       "    </tr>\n",
       "  </tbody>\n",
       "</table>\n",
       "</div>"
      ],
      "text/plain": [
       "   County  Maximum   Max Date  Minimum      Mean  Median\n",
       "0  Fresno     1.14 2015-07-30      0.0  0.015522     0.0"
      ]
     },
     "execution_count": 103,
     "metadata": {},
     "output_type": "execute_result"
    }
   ],
   "source": [
    "Rough_Summary = pd.DataFrame({\"County\":\"Fresno\",\n",
    "                              \"Maximum\": maximum,\n",
    "                              \"Max Date\": max_date,\n",
    "                              \"Minimum\": [minimum],\n",
    "                              \"Mean\": mean,\n",
    "                              \"Median\": median})\n",
    "Rough_Summary"
   ]
  },
  {
   "cell_type": "markdown",
   "metadata": {},
   "source": [
    "## McNally Fire:"
   ]
  },
  {
   "cell_type": "code",
   "execution_count": 104,
   "metadata": {},
   "outputs": [],
   "source": [
    "McNally_pd = edited_rainfall_data_df[(edited_rainfall_data_df['fire_name'] == \"McNally\")]"
   ]
  },
  {
   "cell_type": "code",
   "execution_count": 105,
   "metadata": {},
   "outputs": [],
   "source": [
    "Year_McNally_pd = McNally_pd[(McNally_pd['reading'] > '2001-07-21') & (McNally_pd['reading'] < '2002-07-22')]"
   ]
  },
  {
   "cell_type": "code",
   "execution_count": 106,
   "metadata": {},
   "outputs": [],
   "source": [
    "Three_Month_McNally_pd = McNally_pd[(McNally_pd['reading'] > '2002-04-21') & (McNally_pd['reading'] < '2002-07-22')]"
   ]
  },
  {
   "cell_type": "code",
   "execution_count": 107,
   "metadata": {},
   "outputs": [],
   "source": [
    "unedited_McNallya_pd = rainfall_data_df[(rainfall_data_df['fire_name'] == \"McNally\")]"
   ]
  },
  {
   "cell_type": "code",
   "execution_count": 108,
   "metadata": {},
   "outputs": [],
   "source": [
    "unedited_Year_McNally_pd = unedited_McNallya_pd[(unedited_McNallya_pd['reading'] > '2001-07-21') & (unedited_McNallya_pd['reading'] < '2002-07-22')]"
   ]
  },
  {
   "cell_type": "code",
   "execution_count": 109,
   "metadata": {},
   "outputs": [],
   "source": [
    "median = unedited_Year_McNally_pd.median()\n",
    "median = median['rainfall']\n",
    "\n",
    "mean = unedited_Year_McNally_pd.mean()\n",
    "mean = mean['rainfall']\n",
    "\n",
    "maximum = unedited_Year_McNally_pd.max()\n",
    "max_date = maximum['reading']\n",
    "maximum = maximum['rainfall']\n",
    "\n",
    "minimum = unedited_Year_McNally_pd.min()\n",
    "minimum = minimum['rainfall']"
   ]
  },
  {
   "cell_type": "code",
   "execution_count": 110,
   "metadata": {},
   "outputs": [
    {
     "data": {
      "text/html": [
       "<div>\n",
       "<style scoped>\n",
       "    .dataframe tbody tr th:only-of-type {\n",
       "        vertical-align: middle;\n",
       "    }\n",
       "\n",
       "    .dataframe tbody tr th {\n",
       "        vertical-align: top;\n",
       "    }\n",
       "\n",
       "    .dataframe thead th {\n",
       "        text-align: right;\n",
       "    }\n",
       "</style>\n",
       "<table border=\"1\" class=\"dataframe\">\n",
       "  <thead>\n",
       "    <tr style=\"text-align: right;\">\n",
       "      <th></th>\n",
       "      <th>County</th>\n",
       "      <th>Maximum</th>\n",
       "      <th>Max Date</th>\n",
       "      <th>Minimum</th>\n",
       "      <th>Mean</th>\n",
       "      <th>Median</th>\n",
       "    </tr>\n",
       "  </thead>\n",
       "  <tbody>\n",
       "    <tr>\n",
       "      <td>0</td>\n",
       "      <td>Tulare</td>\n",
       "      <td>0.92</td>\n",
       "      <td>2002-07-21</td>\n",
       "      <td>0.0</td>\n",
       "      <td>0.023945</td>\n",
       "      <td>0.0</td>\n",
       "    </tr>\n",
       "  </tbody>\n",
       "</table>\n",
       "</div>"
      ],
      "text/plain": [
       "   County  Maximum   Max Date  Minimum      Mean  Median\n",
       "0  Tulare     0.92 2002-07-21      0.0  0.023945     0.0"
      ]
     },
     "execution_count": 110,
     "metadata": {},
     "output_type": "execute_result"
    }
   ],
   "source": [
    "McNally_Summary = pd.DataFrame({\"County\":\"Tulare\",\n",
    "                              \"Maximum\": maximum,\n",
    "                              \"Max Date\": max_date,\n",
    "                              \"Minimum\": [minimum],\n",
    "                              \"Mean\": mean,\n",
    "                              \"Median\": median})\n",
    "McNally_Summary"
   ]
  },
  {
   "cell_type": "markdown",
   "metadata": {},
   "source": [
    "## Stanislaus Fire:"
   ]
  },
  {
   "cell_type": "code",
   "execution_count": 111,
   "metadata": {},
   "outputs": [],
   "source": [
    "##Stanislaus_Complex_pd = rainfall_data_df[(rainfall_data_df['fire_name'] == \"Stanislaus\")]"
   ]
  },
  {
   "cell_type": "markdown",
   "metadata": {},
   "source": [
    "## BigBarComplex Fire:"
   ]
  },
  {
   "cell_type": "code",
   "execution_count": 112,
   "metadata": {},
   "outputs": [],
   "source": [
    "Big_Bar_Complex_pd = edited_rainfall_data_df[(edited_rainfall_data_df['fire_name'] == \"BigBarComplex\")]"
   ]
  },
  {
   "cell_type": "code",
   "execution_count": 113,
   "metadata": {},
   "outputs": [],
   "source": [
    "Year_Big_Bar_Complex_pd = Big_Bar_Complex_pd[(Big_Bar_Complex_pd['reading'] > '1998-08-24') & (Big_Bar_Complex_pd['reading'] < '1999-08-25')]"
   ]
  },
  {
   "cell_type": "code",
   "execution_count": 114,
   "metadata": {},
   "outputs": [],
   "source": [
    "Three_Month_Big_Bar_Complex_pd = Big_Bar_Complex_pd[(Big_Bar_Complex_pd['reading'] > '1999-05-24') & (Big_Bar_Complex_pd['reading'] < '1999-08-25')]"
   ]
  },
  {
   "cell_type": "code",
   "execution_count": 115,
   "metadata": {},
   "outputs": [],
   "source": [
    "unedited_Big_Bar_Complex_pd = rainfall_data_df[(rainfall_data_df['fire_name'] == \"BigBarComplex\")]"
   ]
  },
  {
   "cell_type": "code",
   "execution_count": 116,
   "metadata": {},
   "outputs": [],
   "source": [
    "unedited_Year_Big_Bar_Complex_pd = unedited_Big_Bar_Complex_pd[(unedited_Big_Bar_Complex_pd['reading'] > '1998-08-24') & (unedited_Big_Bar_Complex_pd['reading'] < '1999-08-25')]"
   ]
  },
  {
   "cell_type": "code",
   "execution_count": 117,
   "metadata": {},
   "outputs": [],
   "source": [
    "median = unedited_Year_Big_Bar_Complex_pd.median()\n",
    "median = median['rainfall']\n",
    "\n",
    "mean = unedited_Year_Big_Bar_Complex_pd.mean()\n",
    "mean = mean['rainfall']\n",
    "\n",
    "maximum = unedited_Year_Big_Bar_Complex_pd.max()\n",
    "max_date = maximum['reading']\n",
    "maximum = maximum['rainfall']\n",
    "\n",
    "minimum = unedited_Year_Big_Bar_Complex_pd.min()\n",
    "minimum = minimum['rainfall']"
   ]
  },
  {
   "cell_type": "code",
   "execution_count": 118,
   "metadata": {},
   "outputs": [
    {
     "data": {
      "text/html": [
       "<div>\n",
       "<style scoped>\n",
       "    .dataframe tbody tr th:only-of-type {\n",
       "        vertical-align: middle;\n",
       "    }\n",
       "\n",
       "    .dataframe tbody tr th {\n",
       "        vertical-align: top;\n",
       "    }\n",
       "\n",
       "    .dataframe thead th {\n",
       "        text-align: right;\n",
       "    }\n",
       "</style>\n",
       "<table border=\"1\" class=\"dataframe\">\n",
       "  <thead>\n",
       "    <tr style=\"text-align: right;\">\n",
       "      <th></th>\n",
       "      <th>County</th>\n",
       "      <th>Maximum</th>\n",
       "      <th>Max Date</th>\n",
       "      <th>Minimum</th>\n",
       "      <th>Mean</th>\n",
       "      <th>Median</th>\n",
       "    </tr>\n",
       "  </thead>\n",
       "  <tbody>\n",
       "    <tr>\n",
       "      <td>0</td>\n",
       "      <td>Trinity</td>\n",
       "      <td>2.27</td>\n",
       "      <td>1999-08-24</td>\n",
       "      <td>0.0</td>\n",
       "      <td>0.109534</td>\n",
       "      <td>0.0</td>\n",
       "    </tr>\n",
       "  </tbody>\n",
       "</table>\n",
       "</div>"
      ],
      "text/plain": [
       "    County  Maximum   Max Date  Minimum      Mean  Median\n",
       "0  Trinity     2.27 1999-08-24      0.0  0.109534     0.0"
      ]
     },
     "execution_count": 118,
     "metadata": {},
     "output_type": "execute_result"
    }
   ],
   "source": [
    "BigBarComplex_Summary = pd.DataFrame({\"County\":\"Trinity\",\n",
    "                              \"Maximum\": maximum,\n",
    "                              \"Max Date\": max_date,\n",
    "                              \"Minimum\": [minimum],\n",
    "                              \"Mean\": mean,\n",
    "                              \"Median\": median})\n",
    "BigBarComplex_Summary"
   ]
  },
  {
   "cell_type": "markdown",
   "metadata": {},
   "source": [
    "## CSV:"
   ]
  },
  {
   "cell_type": "markdown",
   "metadata": {},
   "source": [
    "## Three Month CSV:"
   ]
  },
  {
   "cell_type": "code",
   "execution_count": 119,
   "metadata": {},
   "outputs": [],
   "source": [
    "edited_three_month_frames = [Three_Month_Mendocino_Complex_pd, Three_Month_Thomas_pd, Three_Month_Cedar_pd, Three_Month_Rush_pd, Three_Month_Rim_pd, Three_Month_Carr_pd,\n",
    "          Three_Month_Witch_pd, Three_Month_Klamath_Theater_Complex_pd, Three_Month_Basin_Complex_pd, Three_Month_Day_pd, Three_Month_Station_pd, Three_Month_Camp_pd, Three_Month_Rough_pd, \n",
    "          Three_Month_McNally_pd, Three_Month_Big_Bar_Complex_pd]"
   ]
  },
  {
   "cell_type": "code",
   "execution_count": 120,
   "metadata": {},
   "outputs": [
    {
     "data": {
      "text/html": [
       "<div>\n",
       "<style scoped>\n",
       "    .dataframe tbody tr th:only-of-type {\n",
       "        vertical-align: middle;\n",
       "    }\n",
       "\n",
       "    .dataframe tbody tr th {\n",
       "        vertical-align: top;\n",
       "    }\n",
       "\n",
       "    .dataframe thead th {\n",
       "        text-align: right;\n",
       "    }\n",
       "</style>\n",
       "<table border=\"1\" class=\"dataframe\">\n",
       "  <thead>\n",
       "    <tr style=\"text-align: right;\">\n",
       "      <th></th>\n",
       "      <th>reading</th>\n",
       "      <th>rainfall</th>\n",
       "      <th>county</th>\n",
       "      <th>fire_name</th>\n",
       "    </tr>\n",
       "  </thead>\n",
       "  <tbody>\n",
       "    <tr>\n",
       "      <td>5871</td>\n",
       "      <td>2018-04-28</td>\n",
       "      <td>0.07</td>\n",
       "      <td>Mendocino</td>\n",
       "      <td>Mendocino</td>\n",
       "    </tr>\n",
       "    <tr>\n",
       "      <td>5872</td>\n",
       "      <td>2018-04-29</td>\n",
       "      <td>0.12</td>\n",
       "      <td>Mendocino</td>\n",
       "      <td>Mendocino</td>\n",
       "    </tr>\n",
       "    <tr>\n",
       "      <td>5874</td>\n",
       "      <td>2018-05-01</td>\n",
       "      <td>0.12</td>\n",
       "      <td>Mendocino</td>\n",
       "      <td>Mendocino</td>\n",
       "    </tr>\n",
       "    <tr>\n",
       "      <td>5877</td>\n",
       "      <td>2018-05-04</td>\n",
       "      <td>0.12</td>\n",
       "      <td>Mendocino</td>\n",
       "      <td>Mendocino</td>\n",
       "    </tr>\n",
       "    <tr>\n",
       "      <td>5878</td>\n",
       "      <td>2018-05-05</td>\n",
       "      <td>0.08</td>\n",
       "      <td>Mendocino</td>\n",
       "      <td>Mendocino</td>\n",
       "    </tr>\n",
       "    <tr>\n",
       "      <td>...</td>\n",
       "      <td>...</td>\n",
       "      <td>...</td>\n",
       "      <td>...</td>\n",
       "      <td>...</td>\n",
       "    </tr>\n",
       "    <tr>\n",
       "      <td>779</td>\n",
       "      <td>2002-05-20</td>\n",
       "      <td>0.07</td>\n",
       "      <td>Tulare</td>\n",
       "      <td>McNally</td>\n",
       "    </tr>\n",
       "    <tr>\n",
       "      <td>780</td>\n",
       "      <td>2002-05-21</td>\n",
       "      <td>0.11</td>\n",
       "      <td>Tulare</td>\n",
       "      <td>McNally</td>\n",
       "    </tr>\n",
       "    <tr>\n",
       "      <td>306</td>\n",
       "      <td>1999-06-03</td>\n",
       "      <td>0.11</td>\n",
       "      <td>Trinity</td>\n",
       "      <td>BigBarComplex</td>\n",
       "    </tr>\n",
       "    <tr>\n",
       "      <td>371</td>\n",
       "      <td>1999-08-07</td>\n",
       "      <td>0.20</td>\n",
       "      <td>Trinity</td>\n",
       "      <td>BigBarComplex</td>\n",
       "    </tr>\n",
       "    <tr>\n",
       "      <td>375</td>\n",
       "      <td>1999-08-11</td>\n",
       "      <td>0.07</td>\n",
       "      <td>Trinity</td>\n",
       "      <td>BigBarComplex</td>\n",
       "    </tr>\n",
       "  </tbody>\n",
       "</table>\n",
       "<p>80 rows × 4 columns</p>\n",
       "</div>"
      ],
      "text/plain": [
       "        reading  rainfall     county      fire_name\n",
       "5871 2018-04-28      0.07  Mendocino      Mendocino\n",
       "5872 2018-04-29      0.12  Mendocino      Mendocino\n",
       "5874 2018-05-01      0.12  Mendocino      Mendocino\n",
       "5877 2018-05-04      0.12  Mendocino      Mendocino\n",
       "5878 2018-05-05      0.08  Mendocino      Mendocino\n",
       "...         ...       ...        ...            ...\n",
       "779  2002-05-20      0.07     Tulare        McNally\n",
       "780  2002-05-21      0.11     Tulare        McNally\n",
       "306  1999-06-03      0.11    Trinity  BigBarComplex\n",
       "371  1999-08-07      0.20    Trinity  BigBarComplex\n",
       "375  1999-08-11      0.07    Trinity  BigBarComplex\n",
       "\n",
       "[80 rows x 4 columns]"
      ]
     },
     "execution_count": 120,
     "metadata": {},
     "output_type": "execute_result"
    }
   ],
   "source": [
    "three_month_rainfall = pd.concat(edited_three_month_frames, sort=False)\n",
    "three_month_rainfall"
   ]
  },
  {
   "cell_type": "code",
   "execution_count": null,
   "metadata": {},
   "outputs": [],
   "source": [
    "three_month_rainfall.to_csv(\"Resources/Project_CSV/three_month_rainfall.csv\", index=False)"
   ]
  },
  {
   "cell_type": "code",
   "execution_count": null,
   "metadata": {},
   "outputs": [],
   "source": []
  },
  {
   "cell_type": "markdown",
   "metadata": {},
   "source": [
    "## Year CSV:"
   ]
  },
  {
   "cell_type": "code",
   "execution_count": 122,
   "metadata": {},
   "outputs": [],
   "source": [
    "edited_year_frames = [Year_Mendocino_Complex_pd, Year_Thomas_pd, Year_Cedar_pd, Year_Rush_pd, Year_Rim_pd, Year_Carr_pd,\n",
    "          Year_Witch_pd, Year_Klamath_Theater_Complex_pd, Year_Basin_Complex_pd, Year_Day_pd, Year_Station_pd, Year_Camp_pd, Year_Rough_pd, \n",
    "          Year_McNally_pd, Year_Big_Bar_Complex_pd]"
   ]
  },
  {
   "cell_type": "code",
   "execution_count": 123,
   "metadata": {},
   "outputs": [
    {
     "data": {
      "text/html": [
       "<div>\n",
       "<style scoped>\n",
       "    .dataframe tbody tr th:only-of-type {\n",
       "        vertical-align: middle;\n",
       "    }\n",
       "\n",
       "    .dataframe tbody tr th {\n",
       "        vertical-align: top;\n",
       "    }\n",
       "\n",
       "    .dataframe thead th {\n",
       "        text-align: right;\n",
       "    }\n",
       "</style>\n",
       "<table border=\"1\" class=\"dataframe\">\n",
       "  <thead>\n",
       "    <tr style=\"text-align: right;\">\n",
       "      <th></th>\n",
       "      <th>reading</th>\n",
       "      <th>rainfall</th>\n",
       "      <th>county</th>\n",
       "      <th>fire_name</th>\n",
       "    </tr>\n",
       "  </thead>\n",
       "  <tbody>\n",
       "    <tr>\n",
       "      <td>5646</td>\n",
       "      <td>2017-09-15</td>\n",
       "      <td>0.06</td>\n",
       "      <td>Mendocino</td>\n",
       "      <td>Mendocino</td>\n",
       "    </tr>\n",
       "    <tr>\n",
       "      <td>5648</td>\n",
       "      <td>2017-09-17</td>\n",
       "      <td>0.07</td>\n",
       "      <td>Mendocino</td>\n",
       "      <td>Mendocino</td>\n",
       "    </tr>\n",
       "    <tr>\n",
       "      <td>5669</td>\n",
       "      <td>2017-10-08</td>\n",
       "      <td>0.07</td>\n",
       "      <td>Mendocino</td>\n",
       "      <td>Mendocino</td>\n",
       "    </tr>\n",
       "    <tr>\n",
       "      <td>5671</td>\n",
       "      <td>2017-10-10</td>\n",
       "      <td>0.08</td>\n",
       "      <td>Mendocino</td>\n",
       "      <td>Mendocino</td>\n",
       "    </tr>\n",
       "    <tr>\n",
       "      <td>5673</td>\n",
       "      <td>2017-10-12</td>\n",
       "      <td>0.07</td>\n",
       "      <td>Mendocino</td>\n",
       "      <td>Mendocino</td>\n",
       "    </tr>\n",
       "    <tr>\n",
       "      <td>...</td>\n",
       "      <td>...</td>\n",
       "      <td>...</td>\n",
       "      <td>...</td>\n",
       "      <td>...</td>\n",
       "    </tr>\n",
       "    <tr>\n",
       "      <td>276</td>\n",
       "      <td>1999-05-04</td>\n",
       "      <td>0.20</td>\n",
       "      <td>Trinity</td>\n",
       "      <td>BigBarComplex</td>\n",
       "    </tr>\n",
       "    <tr>\n",
       "      <td>287</td>\n",
       "      <td>1999-05-15</td>\n",
       "      <td>0.10</td>\n",
       "      <td>Trinity</td>\n",
       "      <td>BigBarComplex</td>\n",
       "    </tr>\n",
       "    <tr>\n",
       "      <td>306</td>\n",
       "      <td>1999-06-03</td>\n",
       "      <td>0.11</td>\n",
       "      <td>Trinity</td>\n",
       "      <td>BigBarComplex</td>\n",
       "    </tr>\n",
       "    <tr>\n",
       "      <td>371</td>\n",
       "      <td>1999-08-07</td>\n",
       "      <td>0.20</td>\n",
       "      <td>Trinity</td>\n",
       "      <td>BigBarComplex</td>\n",
       "    </tr>\n",
       "    <tr>\n",
       "      <td>375</td>\n",
       "      <td>1999-08-11</td>\n",
       "      <td>0.07</td>\n",
       "      <td>Trinity</td>\n",
       "      <td>BigBarComplex</td>\n",
       "    </tr>\n",
       "  </tbody>\n",
       "</table>\n",
       "<p>890 rows × 4 columns</p>\n",
       "</div>"
      ],
      "text/plain": [
       "        reading  rainfall     county      fire_name\n",
       "5646 2017-09-15      0.06  Mendocino      Mendocino\n",
       "5648 2017-09-17      0.07  Mendocino      Mendocino\n",
       "5669 2017-10-08      0.07  Mendocino      Mendocino\n",
       "5671 2017-10-10      0.08  Mendocino      Mendocino\n",
       "5673 2017-10-12      0.07  Mendocino      Mendocino\n",
       "...         ...       ...        ...            ...\n",
       "276  1999-05-04      0.20    Trinity  BigBarComplex\n",
       "287  1999-05-15      0.10    Trinity  BigBarComplex\n",
       "306  1999-06-03      0.11    Trinity  BigBarComplex\n",
       "371  1999-08-07      0.20    Trinity  BigBarComplex\n",
       "375  1999-08-11      0.07    Trinity  BigBarComplex\n",
       "\n",
       "[890 rows x 4 columns]"
      ]
     },
     "execution_count": 123,
     "metadata": {},
     "output_type": "execute_result"
    }
   ],
   "source": [
    "year_rainfall = pd.concat(edited_year_frames, sort=False)\n",
    "year_rainfall"
   ]
  },
  {
   "cell_type": "code",
   "execution_count": null,
   "metadata": {},
   "outputs": [],
   "source": [
    "year_rainfall.to_csv(\"Resources/Project_CSV/year_rainfall.csv\", index=False)"
   ]
  },
  {
   "cell_type": "markdown",
   "metadata": {},
   "source": [
    "## Summary CSV:"
   ]
  },
  {
   "cell_type": "code",
   "execution_count": null,
   "metadata": {},
   "outputs": [],
   "source": [
    "summary_frames = [Mendocino_Summary, Thomas_Summary, Cedar_Summary, Rush_Summary, Rim_Summary, Carr_Summary,\n",
    "          Witch_Summary, Klamath_Summary, Basin_Summary, Day_Summary, Station_Summary, Camp_Summary, Rough_Summary, \n",
    "          McNally_Summary, BigBarComplex_Summary]"
   ]
  },
  {
   "cell_type": "code",
   "execution_count": null,
   "metadata": {},
   "outputs": [],
   "source": [
    "summary_rainfall = pd.concat(summary_frames, sort=False)\n",
    "summary_rainfall"
   ]
  },
  {
   "cell_type": "code",
   "execution_count": null,
   "metadata": {},
   "outputs": [],
   "source": [
    "summary_rainfall.to_csv(\"Resources/Project_CSV/summary_rainfall.csv\", index=False)"
   ]
  },
  {
   "cell_type": "code",
   "execution_count": null,
   "metadata": {},
   "outputs": [],
   "source": []
  },
  {
   "cell_type": "code",
   "execution_count": null,
   "metadata": {},
   "outputs": [],
   "source": [
    "#a = year_rainfall.groupby(['reading'])\n",
    "#a.head()"
   ]
  },
  {
   "cell_type": "code",
   "execution_count": null,
   "metadata": {},
   "outputs": [],
   "source": [
    "#year_rainfall.to_json(\"year/year_rainfall.json\")"
   ]
  },
  {
   "cell_type": "code",
   "execution_count": null,
   "metadata": {},
   "outputs": [],
   "source": []
  }
 ],
 "metadata": {
  "kernelspec": {
   "display_name": "Python 3",
   "language": "python",
   "name": "python3"
  },
  "language_info": {
   "codemirror_mode": {
    "name": "ipython",
    "version": 3
   },
   "file_extension": ".py",
   "mimetype": "text/x-python",
   "name": "python",
   "nbconvert_exporter": "python",
   "pygments_lexer": "ipython3",
   "version": "3.6.9"
  }
 },
 "nbformat": 4,
 "nbformat_minor": 2
}
